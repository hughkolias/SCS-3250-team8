{
 "cells": [
  {
   "cell_type": "markdown",
   "metadata": {},
   "source": [
    "# TTC Subway Delays"
   ]
  },
  {
   "cell_type": "code",
   "execution_count": 1,
   "metadata": {},
   "outputs": [],
   "source": [
    "# Import packages\n",
    "import pandas as pd\n",
    "import numpy as np\n",
    "import seaborn as sns\n",
    "import matplotlib.pyplot as plt\n",
    "import calendar\n",
    "import statsmodels.api as sm\n",
    "from statsmodels.tsa.seasonal import seasonal_decompose\n",
    "from pylab import rcParams\n",
    "%matplotlib inline\n",
    "sns.set()\n",
    "%matplotlib inline"
   ]
  },
  {
   "cell_type": "markdown",
   "metadata": {},
   "source": [
    "# 1. Data Collection and Cleaning\n",
    "\n",
    "## a. Data Types\n",
    "- High Level Overview of Data Types\n",
    "\n",
    "## b. Missing Data\n",
    "- Bound\n",
    "- Line\n",
    "- Code Names\n",
    "\n",
    "## c. Feature Engineering\n",
    "- Station Engineering\n",
    "- Line Completion and Verification\n",
    "- Location (Station/Misc)\n",
    "- Code Bins\n",
    "\n",
    "## d. Monthly Ridership\n",
    "- Import and Cleaning\n",
    "\n",
    "# 2. Data Analysis\n",
    "\n",
    "## a. High Level Overview of Delays\n",
    "- Types of Delays\n",
    "- Occurence of Delays\n",
    "\n",
    "## b. Efficiency Metrics and Trends\n",
    "- Efficiency Metrics\n",
    "- Efficiency Trends\n",
    "\n",
    "## c. Correlation between Min Delay and Min Gap\n"
   ]
  },
  {
   "cell_type": "markdown",
   "metadata": {},
   "source": [
    "# 1. Data Collection and Cleaning\n",
    "\n",
    "## a. High Level Overview of Data"
   ]
  },
  {
   "cell_type": "code",
   "execution_count": 2,
   "metadata": {},
   "outputs": [],
   "source": [
    "# Import datasets\n",
    "delay = pd.read_csv('data/all_years.csv', delimiter = '\\t')\n",
    "codes_srt = pd.read_csv('data/codes_srt.csv', delimiter = '\\t')\n",
    "codes_sub = pd.read_csv('data/codes_sub.csv', delimiter = '\\t')\n",
    "\n",
    "# Merge Datasets\n",
    "delay = pd.merge(left=delay, right=codes_srt, how='left', left_on=delay['Code'], \n",
    "        right_on=codes_srt['SRT RMENU CODE']).drop(columns='key_0',axis=1)\n",
    "\n",
    "delay = pd.merge(left=delay, right=codes_sub, how='left', \n",
    "                left_on=delay['Code'], right_on=codes_sub['SUB RMENU CODE']).drop(columns='key_0', axis=1)\n",
    "\n",
    "# Create combo code columns\n",
    "delay['reason'] = delay['CODE DESCRIPTION_y'].fillna(delay['CODE DESCRIPTION_y'])\n",
    "delay = delay.rename(columns={'reason_y': 'reason'})\n",
    "\n",
    "# Drop data fields that are repetitive\n",
    "delay = delay.drop(columns=['SRT RMENU CODE','CODE DESCRIPTION_x','SUB RMENU CODE', \n",
    "                   'CODE DESCRIPTION_y'])"
   ]
  },
  {
   "cell_type": "code",
   "execution_count": 3,
   "metadata": {},
   "outputs": [
    {
     "data": {
      "text/html": [
       "<div>\n",
       "<style scoped>\n",
       "    .dataframe tbody tr th:only-of-type {\n",
       "        vertical-align: middle;\n",
       "    }\n",
       "\n",
       "    .dataframe tbody tr th {\n",
       "        vertical-align: top;\n",
       "    }\n",
       "\n",
       "    .dataframe thead th {\n",
       "        text-align: right;\n",
       "    }\n",
       "</style>\n",
       "<table border=\"1\" class=\"dataframe\">\n",
       "  <thead>\n",
       "    <tr style=\"text-align: right;\">\n",
       "      <th></th>\n",
       "      <th>Date</th>\n",
       "      <th>Time</th>\n",
       "      <th>Day</th>\n",
       "      <th>Station</th>\n",
       "      <th>Code</th>\n",
       "      <th>Min Delay</th>\n",
       "      <th>Min Gap</th>\n",
       "      <th>Bound</th>\n",
       "      <th>Line</th>\n",
       "      <th>Vehicle</th>\n",
       "      <th>reason</th>\n",
       "    </tr>\n",
       "  </thead>\n",
       "  <tbody>\n",
       "    <tr>\n",
       "      <th>0</th>\n",
       "      <td>2014-01-01</td>\n",
       "      <td>00:21</td>\n",
       "      <td>Wednesday</td>\n",
       "      <td>VICTORIA PARK STATION</td>\n",
       "      <td>MUPR1</td>\n",
       "      <td>55</td>\n",
       "      <td>60</td>\n",
       "      <td>W</td>\n",
       "      <td>BD</td>\n",
       "      <td>5111</td>\n",
       "      <td>Priority One - Train in Contact With Person</td>\n",
       "    </tr>\n",
       "    <tr>\n",
       "      <th>1</th>\n",
       "      <td>2014-01-01</td>\n",
       "      <td>02:06</td>\n",
       "      <td>Wednesday</td>\n",
       "      <td>HIGH PARK STATION</td>\n",
       "      <td>SUDP</td>\n",
       "      <td>3</td>\n",
       "      <td>7</td>\n",
       "      <td>W</td>\n",
       "      <td>BD</td>\n",
       "      <td>5001</td>\n",
       "      <td>Disorderly Patron</td>\n",
       "    </tr>\n",
       "    <tr>\n",
       "      <th>2</th>\n",
       "      <td>2014-01-01</td>\n",
       "      <td>02:40</td>\n",
       "      <td>Wednesday</td>\n",
       "      <td>SHEPPARD STATION</td>\n",
       "      <td>MUNCA</td>\n",
       "      <td>0</td>\n",
       "      <td>0</td>\n",
       "      <td>NaN</td>\n",
       "      <td>YU</td>\n",
       "      <td>0</td>\n",
       "      <td>NaN</td>\n",
       "    </tr>\n",
       "    <tr>\n",
       "      <th>3</th>\n",
       "      <td>2014-01-01</td>\n",
       "      <td>03:10</td>\n",
       "      <td>Wednesday</td>\n",
       "      <td>LANSDOWNE STATION</td>\n",
       "      <td>SUDP</td>\n",
       "      <td>3</td>\n",
       "      <td>8</td>\n",
       "      <td>W</td>\n",
       "      <td>BD</td>\n",
       "      <td>5116</td>\n",
       "      <td>Disorderly Patron</td>\n",
       "    </tr>\n",
       "    <tr>\n",
       "      <th>4</th>\n",
       "      <td>2014-01-01</td>\n",
       "      <td>03:20</td>\n",
       "      <td>Wednesday</td>\n",
       "      <td>BLOOR STATION</td>\n",
       "      <td>MUSAN</td>\n",
       "      <td>5</td>\n",
       "      <td>10</td>\n",
       "      <td>S</td>\n",
       "      <td>YU</td>\n",
       "      <td>5386</td>\n",
       "      <td>Unsanitary Vehicle</td>\n",
       "    </tr>\n",
       "  </tbody>\n",
       "</table>\n",
       "</div>"
      ],
      "text/plain": [
       "         Date   Time        Day                Station   Code  Min Delay  \\\n",
       "0  2014-01-01  00:21  Wednesday  VICTORIA PARK STATION  MUPR1         55   \n",
       "1  2014-01-01  02:06  Wednesday      HIGH PARK STATION   SUDP          3   \n",
       "2  2014-01-01  02:40  Wednesday       SHEPPARD STATION  MUNCA          0   \n",
       "3  2014-01-01  03:10  Wednesday      LANSDOWNE STATION   SUDP          3   \n",
       "4  2014-01-01  03:20  Wednesday          BLOOR STATION  MUSAN          5   \n",
       "\n",
       "   Min Gap Bound Line  Vehicle                                       reason  \n",
       "0       60     W   BD     5111  Priority One - Train in Contact With Person  \n",
       "1        7     W   BD     5001                            Disorderly Patron  \n",
       "2        0   NaN   YU        0                                          NaN  \n",
       "3        8     W   BD     5116                            Disorderly Patron  \n",
       "4       10     S   YU     5386                           Unsanitary Vehicle  "
      ]
     },
     "execution_count": 3,
     "metadata": {},
     "output_type": "execute_result"
    }
   ],
   "source": [
    "# What does our data look like?\n",
    "delay.head()"
   ]
  },
  {
   "cell_type": "code",
   "execution_count": 4,
   "metadata": {},
   "outputs": [
    {
     "name": "stdout",
     "output_type": "stream",
     "text": [
      "<class 'pandas.core.frame.DataFrame'>\n",
      "Int64Index: 97677 entries, 0 to 97676\n",
      "Data columns (total 11 columns):\n",
      "Date         97677 non-null object\n",
      "Time         97677 non-null object\n",
      "Day          97677 non-null object\n",
      "Station      97677 non-null object\n",
      "Code         97676 non-null object\n",
      "Min Delay    97677 non-null int64\n",
      "Min Gap      97677 non-null int64\n",
      "Bound        76575 non-null object\n",
      "Line         97277 non-null object\n",
      "Vehicle      97677 non-null int64\n",
      "reason       91956 non-null object\n",
      "dtypes: int64(3), object(8)\n",
      "memory usage: 8.9+ MB\n"
     ]
    }
   ],
   "source": [
    "# What types of data are we working with?\n",
    "delay.info()"
   ]
  },
  {
   "cell_type": "code",
   "execution_count": 5,
   "metadata": {},
   "outputs": [],
   "source": [
    "# Convert date/time columns\n",
    "delay['Date'] = pd.to_datetime(delay['Date'])\n",
    "# Generate ['Year','Month'] columns\n",
    "delay['Year'] = delay['Date'].apply(lambda x: x.year)\n",
    "delay['Month'] = delay['Date'].apply(lambda x: x.month)"
   ]
  },
  {
   "cell_type": "code",
   "execution_count": null,
   "metadata": {},
   "outputs": [],
   "source": [
    "# Generate Hour column\n",
    "delay['Time'] = pd.to_datetime(delay['Time'])\n",
    "delay['Hour'] = delay['Time'].apply(lambda x: x.hour)"
   ]
  },
  {
   "cell_type": "code",
   "execution_count": null,
   "metadata": {},
   "outputs": [],
   "source": [
    "# Reformat all columns\n",
    "delay.columns = [col.replace(' ','_').lower() for col in delay.columns.tolist()]"
   ]
  },
  {
   "cell_type": "markdown",
   "metadata": {},
   "source": [
    "## b. Missing Data"
   ]
  },
  {
   "cell_type": "code",
   "execution_count": null,
   "metadata": {},
   "outputs": [],
   "source": [
    "# What data are we missing?\n",
    "# What data are we missing\n",
    "ax = delay.isnull().mean().sort_values().plot(kind='barh',figsize=(15,5), colormap='viridis')\n",
    "ax.set_xlabel('Percent of Values Missing (%)')"
   ]
  },
  {
   "cell_type": "markdown",
   "metadata": {},
   "source": [
    "### Bound: 21.6% Missing \n",
    "\n",
    "- Directional in either one direction or the other.\n",
    "- Nulls can be expected as some delays are when subways are not in transit.\n",
    "- 50/50 chance of generating the accurate direction.\n",
    "- Complete Nulls with 'NA'\n",
    "\n",
    "### Reason: 5.9% Missing\n",
    "- While combo codes are available for all data points, not all combo codes were mapped to a combo name in the attached dataset.\n",
    "- Cannot be completed with anything beyond 'Misc'\n",
    "- Do we want to drop missing or fill with 'Misc'\n",
    "\n",
    "### Line: 0.4% Missing\n",
    "- Small number of missing values\n",
    "- Can be completed based on station estimates"
   ]
  },
  {
   "cell_type": "code",
   "execution_count": null,
   "metadata": {},
   "outputs": [],
   "source": [
    "# Complete missing values if possible\n",
    "delay['bound'] = delay['bound'].fillna('NA')\n",
    "delay['reason'] = delay['reason'].fillna('Misc')"
   ]
  },
  {
   "cell_type": "markdown",
   "metadata": {},
   "source": [
    "## c. Feature Engineering\n",
    "\n",
    "### Station:"
   ]
  },
  {
   "cell_type": "markdown",
   "metadata": {},
   "source": [
    "Levenshtein Distance\n",
    "- Identifies the number of characters needed to change in order to generate two identical strings.\n",
    "\n",
    "Logic:\n",
    "- First, identify if an identical string is matched with the structured list of TTC Stations.\n",
    "- Second, split the station name into a list of words, and identify if any individual word matches a station name directly. This matches the first station avaialble in the list.\n",
    "- Finally, iterate through the station names, and compare seperate sections of strings against the station names listed to identify the closest station affiliate."
   ]
  },
  {
   "cell_type": "code",
   "execution_count": null,
   "metadata": {},
   "outputs": [],
   "source": [
    "# Station Engineering\n",
    "\n",
    "# Generate station Dictionary and List\n",
    "stationDict =  {'BD': ['Bloor','St George','Spadina','Kipling','Islington','Royal York','Old Mill','Jane','Runnymede','High Park','Keele','Dundas West','Lansdowne','Dufferin','Ossington','Christie','Bathurst','Bay','Sherbourne','Castle Frank','Broadview','Chester','Pape','Donlands','Greenwood','Coxwell','Woodbine','Main Street','Victoria Park','Warden'],\n",
    "               'YU': ['Finch','North York Centre','York Mills','Lawrence','Eglinton','Davisville','St Clair','Summerhill','Rosedale','Wellesley','College','Dundas','Queen','King','Union','St Andrew','Osgoode','St Patrick','Queens Park','Museum','Dupont','St Clair West','Eglinton West','Glencairn','Lawrence West','Yorkdale','Wilson','Sheppard West','Downsview Park','Finch West','York University','Pioneer Village','Highway 407','Vaughan Metro Centre','Bloor','St George','Spadina','Sheppard'],\n",
    "               'SHP': ['Sheppard','Bayview','Bessarion','Leslie','Don Mills'],\n",
    "               'SRT': ['Kennedy','Lawrence East','Ellesmere','Midland','Scarborough Centre','McCowan']}\n",
    "\n",
    "stationList = []\n",
    "for line in stationDict:\n",
    "    for stat in stationDict[line]:\n",
    "        stationList.append(stat.lower())\n",
    "    \n",
    "    \n",
    "stationList = list(set(stationList))                "
   ]
  },
  {
   "cell_type": "code",
   "execution_count": null,
   "metadata": {},
   "outputs": [],
   "source": [
    "# Identify Levenshtein Distance of Variables\n",
    "# https://stackabuse.com/levenshtein-distance-and-text-similarity-in-python/\n",
    "\n",
    "def lev(string1, string2):\n",
    "    size_x = len(string1) + 1\n",
    "    size_y = len(string2) + 1\n",
    "    matrix = np.zeros ((size_x, size_y))\n",
    "    for x in range(size_x):\n",
    "        matrix [x, 0] = 0\n",
    "    for y in range(size_y):\n",
    "        matrix [0, y] = y\n",
    "    \n",
    "    for x in range(1, size_x):\n",
    "        for y in range(1, size_y):\n",
    "            if string1[x-1] == string2[y-1]:\n",
    "                matrix [x, y] = min(\n",
    "                matrix[x-1, y] + 1,\n",
    "                matrix[x-1, y-1],\n",
    "                matrix[x, y-1] + 1)\n",
    "            else:\n",
    "                matrix[x,y] = min(\n",
    "                matrix[x-1,y-1] + 1,\n",
    "                matrix[x, y-1] + 1)\n",
    "\n",
    "    #print(matrix)\n",
    "    return (matrix[size_x - 1, size_y-1])"
   ]
  },
  {
   "cell_type": "code",
   "execution_count": null,
   "metadata": {},
   "outputs": [],
   "source": [
    "# Create Function to Morph Station to Closes Variable in Station List\n",
    "\n",
    "# Identify list of variables to replace\n",
    "replaceList = ['-','_','.','-']\n",
    "\n",
    "def morphName(string, stationList):\n",
    "    \n",
    "    for r in replaceList:\n",
    "        string = string.replace(r,'')\n",
    "    \n",
    "    #1. Identify if 'Station' is in string\n",
    "    val = string.lower().find('station')\n",
    "    if val != -1:\n",
    "        \n",
    "        for station in stationList:\n",
    "            if lev(string[:val-1].replace(' ','').lower(), station.replace(' ','').lower()) == 0:\n",
    "                return station\n",
    "            \n",
    "    #2. Use Bag of Words method\n",
    "    if val != -1:\n",
    "        searchList = string[:val-1].split(' ')\n",
    "    else:\n",
    "        searchList = string.split(' ')\n",
    "        \n",
    "    for word in searchList:\n",
    "        for station in stationList:\n",
    "            if lev(word.lower(), station) == 0:\n",
    "                return station\n",
    "            \n",
    "    #3. Use closest approximate\n",
    "    if val != -1:\n",
    "        search = string[:val-1].replace(' ','').lower()\n",
    "        for station in stationList:\n",
    "            \n",
    "            target = station.replace(' ','')\n",
    "\n",
    "            for i in reversed(range(3, len(search) + 1)):\n",
    "                if len(search[:i]) <= len(target):\n",
    "                    if lev(search[:i], target[:i]) == 0:\n",
    "                        return station"
   ]
  },
  {
   "cell_type": "code",
   "execution_count": null,
   "metadata": {},
   "outputs": [],
   "source": [
    "# Generate Mapping Table for Station Names\n",
    "\n",
    "data_station = []\n",
    "real_station = []\n",
    "\n",
    "# Cycle through station names to identify the closest match\n",
    "for stat in delay['station'].unique():\n",
    "    data_station.append(stat)\n",
    "    real_station.append(morphName(stat, stationList))\n",
    "    \n",
    "# Concatenate Series into Dataframe\n",
    "stationNames = pd.concat([pd.Series(data_station, name='data_station'), \n",
    "                          pd.Series(real_station, name='real_station')], \n",
    "                          axis=1)"
   ]
  },
  {
   "cell_type": "code",
   "execution_count": null,
   "metadata": {},
   "outputs": [],
   "source": [
    "# Merge Station Names to Delay\n",
    "delay = pd.merge(left=delay, right=stationNames, how='left',\n",
    "                left_on=delay['station'], right_on=stationNames['data_station']).drop(columns=['key_0','data_station'],axis=1)\n"
   ]
  },
  {
   "cell_type": "markdown",
   "metadata": {},
   "source": [
    "### Line Completion and Verification:"
   ]
  },
  {
   "cell_type": "code",
   "execution_count": null,
   "metadata": {},
   "outputs": [],
   "source": [
    "# Fill Line NaN with Lines based on Engineered Station\n",
    "# Do not fill in lines if its at a bridge station\n",
    "lineDict = {}\n",
    "bridgeList = ['bloor','st george','sheppard']\n",
    "\n",
    "for line in stationDict:\n",
    "    for station in stationDict[line]:\n",
    "        if station.lower() not in bridgeList:\n",
    "            lineDict[station.lower()] = line\n",
    "\n",
    "delay['real_line'] = delay['real_station'].map(lineDict)    \n",
    "\n",
    "delay['line'] = delay['line'].fillna(delay['real_station'].map(lineDict))\n",
    "\n",
    "# Completed reduces the NA's from 400 to 153"
   ]
  },
  {
   "cell_type": "markdown",
   "metadata": {},
   "source": [
    "### Location:\n",
    "- Engineer Location/Misc Boolean to identify if the delay happened to occur at a station"
   ]
  },
  {
   "cell_type": "code",
   "execution_count": null,
   "metadata": {},
   "outputs": [],
   "source": [
    "# Create Location field\n",
    "delay['location'] = delay['station'].apply(lambda x: 'Station' if 'station' in x.lower() else 'Misc')"
   ]
  },
  {
   "cell_type": "markdown",
   "metadata": {},
   "source": [
    "### Code Bins\n",
    "- Engineer groupings for codes based on offline mapping solution prepared manually.\n",
    "- Due to intricacy of the data, no programmatic solution is available to bin."
   ]
  },
  {
   "cell_type": "code",
   "execution_count": null,
   "metadata": {},
   "outputs": [],
   "source": [
    "# Import bins\n",
    "codes_bins = pd.read_csv('data/codes_bins.csv')\n",
    "\n",
    "# Merge Code bins into data\n",
    "delay = pd.merge(how='left', left=delay, right=codes_bins, left_on=['reason'], right_on=['combo code']).drop(columns=['combo code'], axis=1)\n",
    "delay = delay.rename(columns={'code bin': 'code_bin'})"
   ]
  },
  {
   "cell_type": "code",
   "execution_count": null,
   "metadata": {},
   "outputs": [],
   "source": [
    "# Convert Min Delay to Min Delay Hours\n",
    "delay['Min Delay Hours'] = delay['min_delay']/60"
   ]
  },
  {
   "cell_type": "code",
   "execution_count": null,
   "metadata": {},
   "outputs": [],
   "source": [
    "delay.head()"
   ]
  },
  {
   "cell_type": "code",
   "execution_count": null,
   "metadata": {
    "scrolled": true
   },
   "outputs": [],
   "source": [
    "p = delay[delay['code_bin']=='Fire/Smoke']['min_delay'].value_counts()\n",
    "#p.plot(kind='hist', bins=100, )\n",
    "sns.distplot(a=p, hist=True, kde=True, bins=100)\n",
    "#sns.distplot(a=delay[delay['code_bin']=='Fire/Smoke']['min_delay'].value_counts(), hist=True, vertical=False)"
   ]
  },
  {
   "cell_type": "markdown",
   "metadata": {},
   "source": [
    "### High Level Analysis of Min Delays"
   ]
  },
  {
   "cell_type": "code",
   "execution_count": 23,
   "metadata": {},
   "outputs": [
    {
     "data": {
      "text/plain": [
       "<matplotlib.axes._subplots.AxesSubplot at 0x117f70dd8>"
      ]
     },
     "execution_count": 23,
     "metadata": {},
     "output_type": "execute_result"
    },
    {
     "data": {
      "image/png": "[encoded data removed]",
      "text/plain": [
       "<Figure size 792x648 with 1 Axes>"
      ]
     },
     "metadata": {},
     "output_type": "display_data"
    }
   ],
   "source": [
    "# What types of delays are most commonly reported?\n",
    "delay[['code_bin','min_delay']].groupby(['code_bin']).count().sort_values('min_delay', ascending=False).plot(kind='barh')"
   ]
  },
  {
   "cell_type": "code",
   "execution_count": 24,
   "metadata": {},
   "outputs": [
    {
     "data": {
      "text/plain": [
       "<matplotlib.axes._subplots.AxesSubplot at 0x11983c588>"
      ]
     },
     "execution_count": 24,
     "metadata": {},
     "output_type": "execute_result"
    },
    {
     "data": {
      "image/png": "[encoded data removed]",
      "text/plain": [
       "<Figure size 792x648 with 1 Axes>"
      ]
     },
     "metadata": {},
     "output_type": "display_data"
    }
   ],
   "source": [
    "# What types of delays are causing the greatest service delays?\n",
    "delay[['code_bin','min_delay']].groupby(['code_bin']).sum().sort_values('min_delay',ascending=False).plot(kind='barh')"
   ]
  },
  {
   "cell_type": "code",
   "execution_count": 25,
   "metadata": {},
   "outputs": [
    {
     "data": {
      "text/html": [
       "<div>\n",
       "<style scoped>\n",
       "    .dataframe tbody tr th:only-of-type {\n",
       "        vertical-align: middle;\n",
       "    }\n",
       "\n",
       "    .dataframe tbody tr th {\n",
       "        vertical-align: top;\n",
       "    }\n",
       "\n",
       "    .dataframe thead th {\n",
       "        text-align: right;\n",
       "    }\n",
       "</style>\n",
       "<table border=\"1\" class=\"dataframe\">\n",
       "  <thead>\n",
       "    <tr style=\"text-align: right;\">\n",
       "      <th></th>\n",
       "      <th>mean</th>\n",
       "      <th>median</th>\n",
       "      <th>max</th>\n",
       "      <th>min</th>\n",
       "    </tr>\n",
       "    <tr>\n",
       "      <th>code_bin</th>\n",
       "      <th></th>\n",
       "      <th></th>\n",
       "      <th></th>\n",
       "      <th></th>\n",
       "    </tr>\n",
       "  </thead>\n",
       "  <tbody>\n",
       "    <tr>\n",
       "      <th>Accident</th>\n",
       "      <td>67.370370</td>\n",
       "      <td>59</td>\n",
       "      <td>452</td>\n",
       "      <td>0</td>\n",
       "    </tr>\n",
       "    <tr>\n",
       "      <th>Bomb</th>\n",
       "      <td>18.452381</td>\n",
       "      <td>9</td>\n",
       "      <td>195</td>\n",
       "      <td>0</td>\n",
       "    </tr>\n",
       "    <tr>\n",
       "      <th>Fire/Smoke</th>\n",
       "      <td>13.601015</td>\n",
       "      <td>10</td>\n",
       "      <td>575</td>\n",
       "      <td>0</td>\n",
       "    </tr>\n",
       "    <tr>\n",
       "      <th>Trespassing</th>\n",
       "      <td>8.627164</td>\n",
       "      <td>6</td>\n",
       "      <td>137</td>\n",
       "      <td>0</td>\n",
       "    </tr>\n",
       "    <tr>\n",
       "      <th>Consequential Delay</th>\n",
       "      <td>4.290323</td>\n",
       "      <td>4</td>\n",
       "      <td>15</td>\n",
       "      <td>0</td>\n",
       "    </tr>\n",
       "    <tr>\n",
       "      <th>Unsantiary Vehicle</th>\n",
       "      <td>3.776577</td>\n",
       "      <td>4</td>\n",
       "      <td>27</td>\n",
       "      <td>0</td>\n",
       "    </tr>\n",
       "    <tr>\n",
       "      <th>Vandalism</th>\n",
       "      <td>3.638655</td>\n",
       "      <td>4</td>\n",
       "      <td>21</td>\n",
       "      <td>0</td>\n",
       "    </tr>\n",
       "    <tr>\n",
       "      <th>Body</th>\n",
       "      <td>3.629393</td>\n",
       "      <td>3</td>\n",
       "      <td>15</td>\n",
       "      <td>0</td>\n",
       "    </tr>\n",
       "    <tr>\n",
       "      <th>Yard</th>\n",
       "      <td>3.609589</td>\n",
       "      <td>4</td>\n",
       "      <td>14</td>\n",
       "      <td>0</td>\n",
       "    </tr>\n",
       "    <tr>\n",
       "      <th>Disorderly Patron</th>\n",
       "      <td>3.359456</td>\n",
       "      <td>3</td>\n",
       "      <td>31</td>\n",
       "      <td>0</td>\n",
       "    </tr>\n",
       "    <tr>\n",
       "      <th>Crime</th>\n",
       "      <td>3.094512</td>\n",
       "      <td>0</td>\n",
       "      <td>269</td>\n",
       "      <td>0</td>\n",
       "    </tr>\n",
       "    <tr>\n",
       "      <th>Weather</th>\n",
       "      <td>2.556962</td>\n",
       "      <td>0</td>\n",
       "      <td>247</td>\n",
       "      <td>0</td>\n",
       "    </tr>\n",
       "    <tr>\n",
       "      <th>Misc</th>\n",
       "      <td>1.983024</td>\n",
       "      <td>0</td>\n",
       "      <td>999</td>\n",
       "      <td>0</td>\n",
       "    </tr>\n",
       "    <tr>\n",
       "      <th>Ill/Injured Patron</th>\n",
       "      <td>1.979472</td>\n",
       "      <td>0</td>\n",
       "      <td>51</td>\n",
       "      <td>0</td>\n",
       "    </tr>\n",
       "    <tr>\n",
       "      <th>Mechanical</th>\n",
       "      <td>1.571067</td>\n",
       "      <td>0</td>\n",
       "      <td>424</td>\n",
       "      <td>0</td>\n",
       "    </tr>\n",
       "    <tr>\n",
       "      <th>Alarm - No Trouble Found</th>\n",
       "      <td>1.344752</td>\n",
       "      <td>0</td>\n",
       "      <td>141</td>\n",
       "      <td>0</td>\n",
       "    </tr>\n",
       "    <tr>\n",
       "      <th>Operator</th>\n",
       "      <td>0.809447</td>\n",
       "      <td>0</td>\n",
       "      <td>52</td>\n",
       "      <td>0</td>\n",
       "    </tr>\n",
       "    <tr>\n",
       "      <th>Accessibility</th>\n",
       "      <td>0.026265</td>\n",
       "      <td>0</td>\n",
       "      <td>8</td>\n",
       "      <td>0</td>\n",
       "    </tr>\n",
       "  </tbody>\n",
       "</table>\n",
       "</div>"
      ],
      "text/plain": [
       "                               mean  median  max  min\n",
       "code_bin                                             \n",
       "Accident                  67.370370      59  452    0\n",
       "Bomb                      18.452381       9  195    0\n",
       "Fire/Smoke                13.601015      10  575    0\n",
       "Trespassing                8.627164       6  137    0\n",
       "Consequential Delay        4.290323       4   15    0\n",
       "Unsantiary Vehicle         3.776577       4   27    0\n",
       "Vandalism                  3.638655       4   21    0\n",
       "Body                       3.629393       3   15    0\n",
       "Yard                       3.609589       4   14    0\n",
       "Disorderly Patron          3.359456       3   31    0\n",
       "Crime                      3.094512       0  269    0\n",
       "Weather                    2.556962       0  247    0\n",
       "Misc                       1.983024       0  999    0\n",
       "Ill/Injured Patron         1.979472       0   51    0\n",
       "Mechanical                 1.571067       0  424    0\n",
       "Alarm - No Trouble Found   1.344752       0  141    0\n",
       "Operator                   0.809447       0   52    0\n",
       "Accessibility              0.026265       0    8    0"
      ]
     },
     "execution_count": 25,
     "metadata": {},
     "output_type": "execute_result"
    }
   ],
   "source": [
    "# Identify the Min/Max/Mean of Min Delay for Each Code Bin\n",
    "df1 = delay[['code_bin','min_delay']].groupby('code_bin').mean()\n",
    "df2 = delay[['code_bin','min_delay']].groupby('code_bin').median()\n",
    "df3 = delay[['code_bin','min_delay']].groupby('code_bin').max()\n",
    "df4 = delay[['code_bin','min_delay']].groupby('code_bin').min()\n",
    "\n",
    "df1 = pd.merge(how='left',left=df1,right=df2,left_on=df1.index, right_on=df2.index, left_index=True,right_index=True)\n",
    "df1 = df1.rename(columns={'min_delay_x': 'mean', 'min_delay_y': 'median'})\n",
    "\n",
    "df1 = pd.merge(how='left',left=df1,right=df3,left_on=df1.index, right_on=df3.index, left_index=True,right_index=True)\n",
    "df1 = df1.rename(columns={'min_delay': 'max'})\n",
    "\n",
    "df1 = pd.merge(how='left',left=df1,right=df4,left_on=df1.index, right_on=df4.index, left_index=True,right_index=True)\n",
    "df1 = df1.rename(columns={'min_delay': 'min'})\n",
    "\n",
    "df1.sort_values('mean', ascending=False)"
   ]
  },
  {
   "cell_type": "markdown",
   "metadata": {},
   "source": [
    "## b. Efficiency Metrics and Trends"
   ]
  },
  {
   "cell_type": "code",
   "execution_count": 39,
   "metadata": {},
   "outputs": [
    {
     "data": {
      "text/html": [
       "<div>\n",
       "<style scoped>\n",
       "    .dataframe tbody tr th:only-of-type {\n",
       "        vertical-align: middle;\n",
       "    }\n",
       "\n",
       "    .dataframe tbody tr th {\n",
       "        vertical-align: top;\n",
       "    }\n",
       "\n",
       "    .dataframe thead th {\n",
       "        text-align: right;\n",
       "    }\n",
       "</style>\n",
       "<table border=\"1\" class=\"dataframe\">\n",
       "  <thead>\n",
       "    <tr style=\"text-align: right;\">\n",
       "      <th>year</th>\n",
       "      <th>2014</th>\n",
       "      <th>2015</th>\n",
       "      <th>2016</th>\n",
       "      <th>2017</th>\n",
       "      <th>2018</th>\n",
       "    </tr>\n",
       "    <tr>\n",
       "      <th>code_bin</th>\n",
       "      <th></th>\n",
       "      <th></th>\n",
       "      <th></th>\n",
       "      <th></th>\n",
       "      <th></th>\n",
       "    </tr>\n",
       "  </thead>\n",
       "  <tbody>\n",
       "    <tr>\n",
       "      <th>Accident</th>\n",
       "      <td>51.825000</td>\n",
       "      <td>99.269231</td>\n",
       "      <td>61.576923</td>\n",
       "      <td>75.812500</td>\n",
       "      <td>58.763158</td>\n",
       "    </tr>\n",
       "    <tr>\n",
       "      <th>Bomb</th>\n",
       "      <td>16.444444</td>\n",
       "      <td>14.466667</td>\n",
       "      <td>8.076923</td>\n",
       "      <td>14.833333</td>\n",
       "      <td>42.727273</td>\n",
       "    </tr>\n",
       "    <tr>\n",
       "      <th>Fire/Smoke</th>\n",
       "      <td>12.091837</td>\n",
       "      <td>12.900862</td>\n",
       "      <td>16.147186</td>\n",
       "      <td>13.030534</td>\n",
       "      <td>14.556701</td>\n",
       "    </tr>\n",
       "    <tr>\n",
       "      <th>Trespassing</th>\n",
       "      <td>7.655462</td>\n",
       "      <td>8.155280</td>\n",
       "      <td>9.275641</td>\n",
       "      <td>8.756345</td>\n",
       "      <td>9.177966</td>\n",
       "    </tr>\n",
       "    <tr>\n",
       "      <th>Weather</th>\n",
       "      <td>2.934932</td>\n",
       "      <td>1.990826</td>\n",
       "      <td>1.745098</td>\n",
       "      <td>1.910112</td>\n",
       "      <td>4.280899</td>\n",
       "    </tr>\n",
       "  </tbody>\n",
       "</table>\n",
       "</div>"
      ],
      "text/plain": [
       "year              2014       2015       2016       2017       2018\n",
       "code_bin                                                          \n",
       "Accident     51.825000  99.269231  61.576923  75.812500  58.763158\n",
       "Bomb         16.444444  14.466667   8.076923  14.833333  42.727273\n",
       "Fire/Smoke   12.091837  12.900862  16.147186  13.030534  14.556701\n",
       "Trespassing   7.655462   8.155280   9.275641   8.756345   9.177966\n",
       "Weather       2.934932   1.990826   1.745098   1.910112   4.280899"
      ]
     },
     "execution_count": 39,
     "metadata": {},
     "output_type": "execute_result"
    }
   ],
   "source": [
    "# What types of delays are the most time consuming to correct?\n",
    "efficiency = delay[['year','code_bin','min_delay']].groupby(['code_bin','year']).mean().unstack()\n",
    "efficiency.columns = efficiency.columns.droplevel()\n",
    "efficiency = efficiency.sort_values(2018, ascending=False)\n",
    "efficiency.head()"
   ]
  },
  {
   "cell_type": "code",
   "execution_count": 40,
   "metadata": {},
   "outputs": [],
   "source": [
    "# Map efficiency bins\n",
    "lowEff = efficiency[2018].head(4).index.tolist()\n",
    "highEff = set(efficiency.index.tolist()) - set(lowEff)\n",
    "\n",
    "effDict = {}\n",
    "\n",
    "# Convert reasons to efficiency\n",
    "for cb in lowEff:\n",
    "    effDict[cb] = 'low efficiency'\n",
    "for cb in highEff:\n",
    "    effDict[cb] = 'high efficiency'\n",
    "\n",
    "delay['efficiency_bin'] = delay['code_bin'].map(effDict)"
   ]
  },
  {
   "cell_type": "code",
   "execution_count": 41,
   "metadata": {},
   "outputs": [
    {
     "name": "stderr",
     "output_type": "stream",
     "text": [
      "/anaconda3/lib/python3.6/site-packages/pandas/core/indexing.py:1472: FutureWarning: \n",
      "Passing list-likes to .loc or [] with any missing label will raise\n",
      "KeyError in the future, you can use .reindex() as an alternative.\n",
      "\n",
      "See the documentation here:\n",
      "https://pandas.pydata.org/pandas-docs/stable/indexing.html#deprecate-loc-reindex-listlike\n",
      "  return self._getitem_tuple(key)\n"
     ]
    },
    {
     "data": {
      "text/plain": [
       "Text(0.5,0,'Pct Change in Delay Efficiency (%)')"
      ]
     },
     "execution_count": 41,
     "metadata": {},
     "output_type": "execute_result"
    },
    {
     "data": {
      "image/png": "[encoded data removed]",
      "text/plain": [
       "<Figure size 792x648 with 1 Axes>"
      ]
     },
     "metadata": {},
     "output_type": "display_data"
    }
   ],
   "source": [
    "# Get Efficiency Trends by Year\n",
    "eff_annual = delay[['code_bin','year','min_delay']].groupby(['year','code_bin']).mean()\n",
    "eff_annual = eff_annual.sort_values(['code_bin','year']).unstack().pct_change(4).dropna()\n",
    "eff_annual.columns = eff_annual.columns.droplevel()\n",
    "eff_annual = pd.melt(eff_annual, id_vars=['year'], value_vars=eff_annual.columns.tolist()).drop(columns='year',axis=1)\n",
    "\n",
    "# Sort data and generate efficiency bins\n",
    "eff_annual['efficiency_bin'] = eff_annual['code_bin'].map(effDict)\n",
    "\n",
    "eff_annual = eff_annual.groupby(['code_bin','efficiency_bin']).sum().unstack().reset_index()\n",
    "eff_annual.columns = eff_annual.columns.droplevel()\n",
    "eff_annual['sum'] = eff_annual['high efficiency'].fillna(eff_annual['low efficiency'])\n",
    "eff_annual = eff_annual.rename(columns={'':'efficiency_bin'}).sort_values('sum',ascending=True)\n",
    "eff_annual = eff_annual.reset_index()\n",
    "eff_annual.index = eff_annual['efficiency_bin']\n",
    "ax = eff_annual[['high efficiency','low efficiency']].plot(kind='barh', stacked=True, \n",
    "                                                          title='Growth in Average Time to Clear Delay (2014-2018)')\n",
    "ax.set_xlabel('Pct Change in Delay Efficiency (%)')"
   ]
  },
  {
   "cell_type": "code",
   "execution_count": 42,
   "metadata": {},
   "outputs": [
    {
     "data": {
      "text/html": [
       "<div>\n",
       "<style scoped>\n",
       "    .dataframe tbody tr th:only-of-type {\n",
       "        vertical-align: middle;\n",
       "    }\n",
       "\n",
       "    .dataframe tbody tr th {\n",
       "        vertical-align: top;\n",
       "    }\n",
       "\n",
       "    .dataframe thead th {\n",
       "        text-align: right;\n",
       "    }\n",
       "</style>\n",
       "<table border=\"1\" class=\"dataframe\">\n",
       "  <thead>\n",
       "    <tr style=\"text-align: right;\">\n",
       "      <th></th>\n",
       "      <th>min_delay</th>\n",
       "    </tr>\n",
       "    <tr>\n",
       "      <th>efficiency_bin</th>\n",
       "      <th></th>\n",
       "    </tr>\n",
       "  </thead>\n",
       "  <tbody>\n",
       "    <tr>\n",
       "      <th>high efficiency</th>\n",
       "      <td>0.824519</td>\n",
       "    </tr>\n",
       "    <tr>\n",
       "      <th>low efficiency</th>\n",
       "      <td>0.175481</td>\n",
       "    </tr>\n",
       "  </tbody>\n",
       "</table>\n",
       "</div>"
      ],
      "text/plain": [
       "                 min_delay\n",
       "efficiency_bin            \n",
       "high efficiency   0.824519\n",
       "low efficiency    0.175481"
      ]
     },
     "execution_count": 42,
     "metadata": {},
     "output_type": "execute_result"
    }
   ],
   "source": [
    "# Identify PCT of Total Time Spent on Low Efficiency/High Efficiency Delays\n",
    "eb_sum = delay[['efficiency_bin','min_delay']].groupby('efficiency_bin').sum()\n",
    "eb_sum/eb_sum.sum()"
   ]
  },
  {
   "cell_type": "code",
   "execution_count": 43,
   "metadata": {},
   "outputs": [
    {
     "data": {
      "text/html": [
       "<div>\n",
       "<style scoped>\n",
       "    .dataframe tbody tr th:only-of-type {\n",
       "        vertical-align: middle;\n",
       "    }\n",
       "\n",
       "    .dataframe tbody tr th {\n",
       "        vertical-align: top;\n",
       "    }\n",
       "\n",
       "    .dataframe thead th {\n",
       "        text-align: right;\n",
       "    }\n",
       "</style>\n",
       "<table border=\"1\" class=\"dataframe\">\n",
       "  <thead>\n",
       "    <tr style=\"text-align: right;\">\n",
       "      <th></th>\n",
       "      <th>min_delay</th>\n",
       "    </tr>\n",
       "    <tr>\n",
       "      <th>efficiency_bin</th>\n",
       "      <th></th>\n",
       "    </tr>\n",
       "  </thead>\n",
       "  <tbody>\n",
       "    <tr>\n",
       "      <th>high efficiency</th>\n",
       "      <td>0.979279</td>\n",
       "    </tr>\n",
       "    <tr>\n",
       "      <th>low efficiency</th>\n",
       "      <td>0.020721</td>\n",
       "    </tr>\n",
       "  </tbody>\n",
       "</table>\n",
       "</div>"
      ],
      "text/plain": [
       "                 min_delay\n",
       "efficiency_bin            \n",
       "high efficiency   0.979279\n",
       "low efficiency    0.020721"
      ]
     },
     "execution_count": 43,
     "metadata": {},
     "output_type": "execute_result"
    }
   ],
   "source": [
    "# Identify PCT of Total Alarms on Low Efficiency/High Efficiency of Delays\n",
    "eb_count = delay[['efficiency_bin','min_delay']].groupby('efficiency_bin').count()\n",
    "eb_count/eb_count.sum()"
   ]
  },
  {
   "cell_type": "code",
   "execution_count": 44,
   "metadata": {},
   "outputs": [
    {
     "data": {
      "text/plain": [
       "<matplotlib.axes._subplots.AxesSubplot at 0x1182b8198>"
      ]
     },
     "execution_count": 44,
     "metadata": {},
     "output_type": "execute_result"
    },
    {
     "data": {
      "image/png": "[encoded data removed]",
      "text/plain": [
       "<Figure size 360x360 with 2 Axes>"
      ]
     },
     "metadata": {},
     "output_type": "display_data"
    }
   ],
   "source": [
    "# Identify Per Year Changes\n",
    "# Get Efficiency Trends by Year\n",
    "eff_annual = delay[['code_bin','year','min_delay']].groupby(['year','code_bin']).mean()\n",
    "eff_annual = eff_annual.sort_values(['code_bin','year']).unstack().pct_change(1).dropna()\n",
    "\n",
    "eff_annual.columns = eff_annual.columns.droplevel()\n",
    "eff_annual = eff_annual.sort_values('year', ascending=False)\n",
    "eff_annual\n",
    "sns.set(rc={'figure.figsize':(5,5)})\n",
    "sns.heatmap(data = eff_annual)"
   ]
  },
  {
   "cell_type": "code",
   "execution_count": 45,
   "metadata": {},
   "outputs": [
    {
     "data": {
      "text/html": [
       "<div>\n",
       "<style scoped>\n",
       "    .dataframe tbody tr th:only-of-type {\n",
       "        vertical-align: middle;\n",
       "    }\n",
       "\n",
       "    .dataframe tbody tr th {\n",
       "        vertical-align: top;\n",
       "    }\n",
       "\n",
       "    .dataframe thead th {\n",
       "        text-align: right;\n",
       "    }\n",
       "</style>\n",
       "<table border=\"1\" class=\"dataframe\">\n",
       "  <thead>\n",
       "    <tr style=\"text-align: right;\">\n",
       "      <th>code_bin</th>\n",
       "      <th>Accessibility</th>\n",
       "      <th>Accident</th>\n",
       "      <th>Alarm - No Trouble Found</th>\n",
       "      <th>Body</th>\n",
       "      <th>Bomb</th>\n",
       "      <th>Consequential Delay</th>\n",
       "      <th>Crime</th>\n",
       "      <th>Disorderly Patron</th>\n",
       "      <th>Fire/Smoke</th>\n",
       "      <th>Ill/Injured Patron</th>\n",
       "      <th>Mechanical</th>\n",
       "      <th>Misc</th>\n",
       "      <th>Operator</th>\n",
       "      <th>Trespassing</th>\n",
       "      <th>Unsantiary Vehicle</th>\n",
       "      <th>Vandalism</th>\n",
       "      <th>Weather</th>\n",
       "      <th>Yard</th>\n",
       "    </tr>\n",
       "    <tr>\n",
       "      <th>year</th>\n",
       "      <th></th>\n",
       "      <th></th>\n",
       "      <th></th>\n",
       "      <th></th>\n",
       "      <th></th>\n",
       "      <th></th>\n",
       "      <th></th>\n",
       "      <th></th>\n",
       "      <th></th>\n",
       "      <th></th>\n",
       "      <th></th>\n",
       "      <th></th>\n",
       "      <th></th>\n",
       "      <th></th>\n",
       "      <th></th>\n",
       "      <th></th>\n",
       "      <th></th>\n",
       "      <th></th>\n",
       "    </tr>\n",
       "  </thead>\n",
       "  <tbody>\n",
       "    <tr>\n",
       "      <th>2018</th>\n",
       "      <td>-0.489938</td>\n",
       "      <td>-0.224888</td>\n",
       "      <td>0.062418</td>\n",
       "      <td>0.108285</td>\n",
       "      <td>1.880490</td>\n",
       "      <td>-0.064171</td>\n",
       "      <td>0.389367</td>\n",
       "      <td>0.169706</td>\n",
       "      <td>0.117122</td>\n",
       "      <td>-0.025505</td>\n",
       "      <td>0.460906</td>\n",
       "      <td>0.100099</td>\n",
       "      <td>0.802638</td>\n",
       "      <td>0.048150</td>\n",
       "      <td>0.127174</td>\n",
       "      <td>0.137255</td>\n",
       "      <td>1.241176</td>\n",
       "      <td>0.169655</td>\n",
       "    </tr>\n",
       "    <tr>\n",
       "      <th>2017</th>\n",
       "      <td>-0.197521</td>\n",
       "      <td>0.231184</td>\n",
       "      <td>0.067481</td>\n",
       "      <td>-0.083668</td>\n",
       "      <td>0.836508</td>\n",
       "      <td>0.198898</td>\n",
       "      <td>-0.020563</td>\n",
       "      <td>-0.038718</td>\n",
       "      <td>-0.193015</td>\n",
       "      <td>-0.118963</td>\n",
       "      <td>0.158991</td>\n",
       "      <td>0.127702</td>\n",
       "      <td>0.177972</td>\n",
       "      <td>-0.055985</td>\n",
       "      <td>0.008653</td>\n",
       "      <td>0.092857</td>\n",
       "      <td>0.094559</td>\n",
       "      <td>-0.193548</td>\n",
       "    </tr>\n",
       "    <tr>\n",
       "      <th>2016</th>\n",
       "      <td>0.225150</td>\n",
       "      <td>-0.379698</td>\n",
       "      <td>0.016545</td>\n",
       "      <td>0.105178</td>\n",
       "      <td>-0.441687</td>\n",
       "      <td>-0.226563</td>\n",
       "      <td>0.028252</td>\n",
       "      <td>0.048745</td>\n",
       "      <td>0.251636</td>\n",
       "      <td>0.111040</td>\n",
       "      <td>0.124743</td>\n",
       "      <td>0.020768</td>\n",
       "      <td>0.295134</td>\n",
       "      <td>0.137379</td>\n",
       "      <td>0.030527</td>\n",
       "      <td>-0.196787</td>\n",
       "      <td>-0.123430</td>\n",
       "      <td>0.126773</td>\n",
       "    </tr>\n",
       "    <tr>\n",
       "      <th>2015</th>\n",
       "      <td>0.516929</td>\n",
       "      <td>0.915470</td>\n",
       "      <td>-0.085434</td>\n",
       "      <td>-0.110779</td>\n",
       "      <td>-0.120270</td>\n",
       "      <td>0.144208</td>\n",
       "      <td>0.051653</td>\n",
       "      <td>-0.068607</td>\n",
       "      <td>0.066907</td>\n",
       "      <td>-0.131292</td>\n",
       "      <td>-0.471167</td>\n",
       "      <td>0.079983</td>\n",
       "      <td>-0.249158</td>\n",
       "      <td>0.065289</td>\n",
       "      <td>-0.164521</td>\n",
       "      <td>0.188409</td>\n",
       "      <td>-0.321679</td>\n",
       "      <td>-0.091578</td>\n",
       "    </tr>\n",
       "  </tbody>\n",
       "</table>\n",
       "</div>"
      ],
      "text/plain": [
       "code_bin  Accessibility  Accident  Alarm - No Trouble Found      Body  \\\n",
       "year                                                                    \n",
       "2018          -0.489938 -0.224888                  0.062418  0.108285   \n",
       "2017          -0.197521  0.231184                  0.067481 -0.083668   \n",
       "2016           0.225150 -0.379698                  0.016545  0.105178   \n",
       "2015           0.516929  0.915470                 -0.085434 -0.110779   \n",
       "\n",
       "code_bin      Bomb  Consequential Delay     Crime  Disorderly Patron  \\\n",
       "year                                                                   \n",
       "2018      1.880490            -0.064171  0.389367           0.169706   \n",
       "2017      0.836508             0.198898 -0.020563          -0.038718   \n",
       "2016     -0.441687            -0.226563  0.028252           0.048745   \n",
       "2015     -0.120270             0.144208  0.051653          -0.068607   \n",
       "\n",
       "code_bin  Fire/Smoke  Ill/Injured Patron  Mechanical      Misc  Operator  \\\n",
       "year                                                                       \n",
       "2018        0.117122           -0.025505    0.460906  0.100099  0.802638   \n",
       "2017       -0.193015           -0.118963    0.158991  0.127702  0.177972   \n",
       "2016        0.251636            0.111040    0.124743  0.020768  0.295134   \n",
       "2015        0.066907           -0.131292   -0.471167  0.079983 -0.249158   \n",
       "\n",
       "code_bin  Trespassing  Unsantiary Vehicle  Vandalism   Weather      Yard  \n",
       "year                                                                      \n",
       "2018         0.048150            0.127174   0.137255  1.241176  0.169655  \n",
       "2017        -0.055985            0.008653   0.092857  0.094559 -0.193548  \n",
       "2016         0.137379            0.030527  -0.196787 -0.123430  0.126773  \n",
       "2015         0.065289           -0.164521   0.188409 -0.321679 -0.091578  "
      ]
     },
     "execution_count": 45,
     "metadata": {},
     "output_type": "execute_result"
    }
   ],
   "source": [
    "eff_annual"
   ]
  },
  {
   "cell_type": "code",
   "execution_count": 46,
   "metadata": {},
   "outputs": [
    {
     "data": {
      "text/plain": [
       "<matplotlib.axes._subplots.AxesSubplot at 0x1c2b0326d8>"
      ]
     },
     "execution_count": 46,
     "metadata": {},
     "output_type": "execute_result"
    },
    {
     "data": {
      "image/png": "[encoded data removed]",
      "text/plain": [
       "<Figure size 360x576 with 2 Axes>"
      ]
     },
     "metadata": {},
     "output_type": "display_data"
    }
   ],
   "source": [
    "# Identify yearly efficiency metrics by line\n",
    "line_efficiency = delay[['year','real_line','min_delay']].groupby(['year','real_line']).mean().unstack().pct_change(1).dropna()\n",
    "line_efficiency = line_efficiency.sort_values('year', ascending=False)\n",
    "\n",
    "\n",
    "line_efficiency.columns = line_efficiency.columns.droplevel()\n",
    "sns.set(rc={'figure.figsize':(5,8)})\n",
    "sns.heatmap(line_efficiency)\n"
   ]
  },
  {
   "cell_type": "code",
   "execution_count": 47,
   "metadata": {},
   "outputs": [
    {
     "data": {
      "text/html": [
       "<div>\n",
       "<style scoped>\n",
       "    .dataframe tbody tr th:only-of-type {\n",
       "        vertical-align: middle;\n",
       "    }\n",
       "\n",
       "    .dataframe tbody tr th {\n",
       "        vertical-align: top;\n",
       "    }\n",
       "\n",
       "    .dataframe thead th {\n",
       "        text-align: right;\n",
       "    }\n",
       "</style>\n",
       "<table border=\"1\" class=\"dataframe\">\n",
       "  <thead>\n",
       "    <tr style=\"text-align: right;\">\n",
       "      <th>real_line</th>\n",
       "      <th>BD</th>\n",
       "      <th>SHP</th>\n",
       "      <th>SRT</th>\n",
       "      <th>YU</th>\n",
       "    </tr>\n",
       "    <tr>\n",
       "      <th>year</th>\n",
       "      <th></th>\n",
       "      <th></th>\n",
       "      <th></th>\n",
       "      <th></th>\n",
       "    </tr>\n",
       "  </thead>\n",
       "  <tbody>\n",
       "    <tr>\n",
       "      <th>2018</th>\n",
       "      <td>0.10</td>\n",
       "      <td>-0.08</td>\n",
       "      <td>-0.06</td>\n",
       "      <td>0.43</td>\n",
       "    </tr>\n",
       "    <tr>\n",
       "      <th>2017</th>\n",
       "      <td>0.18</td>\n",
       "      <td>0.07</td>\n",
       "      <td>-0.02</td>\n",
       "      <td>-0.02</td>\n",
       "    </tr>\n",
       "    <tr>\n",
       "      <th>2016</th>\n",
       "      <td>0.18</td>\n",
       "      <td>0.15</td>\n",
       "      <td>-0.06</td>\n",
       "      <td>0.06</td>\n",
       "    </tr>\n",
       "    <tr>\n",
       "      <th>2015</th>\n",
       "      <td>-0.34</td>\n",
       "      <td>-0.05</td>\n",
       "      <td>-0.07</td>\n",
       "      <td>-0.13</td>\n",
       "    </tr>\n",
       "  </tbody>\n",
       "</table>\n",
       "</div>"
      ],
      "text/plain": [
       "real_line    BD   SHP   SRT    YU\n",
       "year                             \n",
       "2018       0.10 -0.08 -0.06  0.43\n",
       "2017       0.18  0.07 -0.02 -0.02\n",
       "2016       0.18  0.15 -0.06  0.06\n",
       "2015      -0.34 -0.05 -0.07 -0.13"
      ]
     },
     "execution_count": 47,
     "metadata": {},
     "output_type": "execute_result"
    }
   ],
   "source": [
    "line_efficiency.round(2)"
   ]
  },
  {
   "cell_type": "code",
   "execution_count": 48,
   "metadata": {},
   "outputs": [
    {
     "data": {
      "text/html": [
       "<div>\n",
       "<style scoped>\n",
       "    .dataframe tbody tr th:only-of-type {\n",
       "        vertical-align: middle;\n",
       "    }\n",
       "\n",
       "    .dataframe tbody tr th {\n",
       "        vertical-align: top;\n",
       "    }\n",
       "\n",
       "    .dataframe thead th {\n",
       "        text-align: right;\n",
       "    }\n",
       "</style>\n",
       "<table border=\"1\" class=\"dataframe\">\n",
       "  <thead>\n",
       "    <tr style=\"text-align: right;\">\n",
       "      <th>real_line</th>\n",
       "      <th>BD</th>\n",
       "      <th>SHP</th>\n",
       "      <th>SRT</th>\n",
       "      <th>YU</th>\n",
       "    </tr>\n",
       "    <tr>\n",
       "      <th>year</th>\n",
       "      <th></th>\n",
       "      <th></th>\n",
       "      <th></th>\n",
       "      <th></th>\n",
       "    </tr>\n",
       "  </thead>\n",
       "  <tbody>\n",
       "    <tr>\n",
       "      <th>2014</th>\n",
       "      <td>2.11</td>\n",
       "      <td>2.71</td>\n",
       "      <td>3.82</td>\n",
       "      <td>1.98</td>\n",
       "    </tr>\n",
       "    <tr>\n",
       "      <th>2015</th>\n",
       "      <td>1.39</td>\n",
       "      <td>2.57</td>\n",
       "      <td>3.54</td>\n",
       "      <td>1.73</td>\n",
       "    </tr>\n",
       "    <tr>\n",
       "      <th>2016</th>\n",
       "      <td>1.64</td>\n",
       "      <td>2.96</td>\n",
       "      <td>3.31</td>\n",
       "      <td>1.83</td>\n",
       "    </tr>\n",
       "    <tr>\n",
       "      <th>2017</th>\n",
       "      <td>1.93</td>\n",
       "      <td>3.18</td>\n",
       "      <td>3.23</td>\n",
       "      <td>1.79</td>\n",
       "    </tr>\n",
       "    <tr>\n",
       "      <th>2018</th>\n",
       "      <td>2.14</td>\n",
       "      <td>2.92</td>\n",
       "      <td>3.04</td>\n",
       "      <td>2.56</td>\n",
       "    </tr>\n",
       "  </tbody>\n",
       "</table>\n",
       "</div>"
      ],
      "text/plain": [
       "real_line    BD   SHP   SRT    YU\n",
       "year                             \n",
       "2014       2.11  2.71  3.82  1.98\n",
       "2015       1.39  2.57  3.54  1.73\n",
       "2016       1.64  2.96  3.31  1.83\n",
       "2017       1.93  3.18  3.23  1.79\n",
       "2018       2.14  2.92  3.04  2.56"
      ]
     },
     "execution_count": 48,
     "metadata": {},
     "output_type": "execute_result"
    }
   ],
   "source": [
    "line2 = delay[['year','real_line','min_delay']].groupby(['year','real_line']).mean().unstack()\n",
    "line2.columns = line2.columns.droplevel()\n",
    "line2.round(2)"
   ]
  },
  {
   "cell_type": "markdown",
   "metadata": {},
   "source": [
    "## c. Correlation between Min Delay and Min Gap\n"
   ]
  },
  {
   "cell_type": "code",
   "execution_count": 49,
   "metadata": {},
   "outputs": [],
   "source": [
    "# How are Minimum Delay & Min Gap Correlated\n",
    "gd_corr = delay[['code_bin','min_gap','min_delay']].groupby(['code_bin']).corr()\n",
    "gd_corr['corr'] = gd_corr.apply(lambda x: min(x), axis=1)\n",
    "gd_corr = gd_corr.reset_index()\n",
    "gd_corr = gd_corr.drop(columns=['min_delay','min_gap','level_1'],axis=1).drop_duplicates()\n",
    "gd_corr['efficiency_bin'] = gd_corr['code_bin'].map(effDict)\n",
    "gd_corr = gd_corr.groupby(['code_bin','efficiency_bin']).sum().unstack().reset_index()\n",
    "gd_corr.columns = gd_corr.columns.droplevel()\n",
    "gd_corr['sum'] = gd_corr['high efficiency'].fillna(gd_corr['low efficiency'])\n",
    "gd_corr = gd_corr.rename(columns={'':'efficiency_bin'}).sort_values('sum', ascending=True)\n",
    "gd_corr = gd_corr.reset_index()\n",
    "gd_corr.index = gd_corr['efficiency_bin']"
   ]
  },
  {
   "cell_type": "code",
   "execution_count": 50,
   "metadata": {},
   "outputs": [
    {
     "data": {
      "image/png": "[encoded data removed]",
      "text/plain": [
       "<Figure size 720x432 with 1 Axes>"
      ]
     },
     "metadata": {},
     "output_type": "display_data"
    }
   ],
   "source": [
    "# Plot correlations\n",
    "sns.set(rc={'figure.figsize':(10,6)})\n",
    "ax = gd_corr[['high efficiency','low efficiency']].plot(kind='barh', \n",
    "                                                       stacked=True, \n",
    "                                                       title='Correlation between Min Delay and Min Gap')\n"
   ]
  },
  {
   "cell_type": "code",
   "execution_count": 51,
   "metadata": {},
   "outputs": [],
   "source": [
    "# Identify correlation by Efficiency Bin\n",
    "ebin_corr = delay[['efficiency_bin','min_gap','min_delay']].groupby('efficiency_bin').corr()\n",
    "ebin_corr['corr'] = ebin_corr.min(axis=1)\n",
    "ebin_corr = ebin_corr.reset_index()\n",
    "ebin_corr = ebin_corr.drop(columns=['min_gap','min_delay','level_1'], axis=1).drop_duplicates()\n",
    "ebin_corr.index = ebin_corr['efficiency_bin']"
   ]
  },
  {
   "cell_type": "code",
   "execution_count": 52,
   "metadata": {},
   "outputs": [
    {
     "data": {
      "text/plain": [
       "<matplotlib.axes._subplots.AxesSubplot at 0x1c26d133c8>"
      ]
     },
     "execution_count": 52,
     "metadata": {},
     "output_type": "execute_result"
    },
    {
     "data": {
      "image/png": "[encoded data removed]",
      "text/plain": [
       "<Figure size 720x432 with 1 Axes>"
      ]
     },
     "metadata": {},
     "output_type": "display_data"
    }
   ],
   "source": [
    "ebin_corr.plot(kind='bar', title='Correlation between Min Delay and Min Gap')"
   ]
  },
  {
   "cell_type": "markdown",
   "metadata": {},
   "source": []
  }
 ],
 "metadata": {
  "kernelspec": {
   "display_name": "Python 3",
   "language": "python",
   "name": "python3"
  },
  "language_info": {
   "codemirror_mode": {
    "name": "ipython",
    "version": 3
   },
   "file_extension": ".py",
   "mimetype": "text/x-python",
   "name": "python",
   "nbconvert_exporter": "python",
   "pygments_lexer": "ipython3",
   "version": "3.6.5"
  }
 },
 "nbformat": 4,
 "nbformat_minor": 2
}
