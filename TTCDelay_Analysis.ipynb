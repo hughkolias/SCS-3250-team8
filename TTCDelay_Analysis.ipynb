{
 "cells": [
  {
   "cell_type": "markdown",
   "metadata": {},
   "source": [
    "# TTC Subway Delays"
   ]
  },
  {
   "cell_type": "code",
   "execution_count": 2,
   "metadata": {},
   "outputs": [],
   "source": [
    "# Import packages\n",
    "import pandas as pd\n",
    "import numpy as np\n",
    "import seaborn as sns\n",
    "import matplotlib.pyplot as plt\n",
    "%matplotlib inline"
   ]
  },
  {
   "cell_type": "code",
   "execution_count": null,
   "metadata": {},
   "outputs": [],
   "source": []
  },
  {
   "cell_type": "code",
   "execution_count": null,
   "metadata": {},
   "outputs": [],
   "source": []
  },
  {
   "cell_type": "markdown",
   "metadata": {},
   "source": [
    "# 1. Data Collection and Cleaning\n",
    "\n",
    "### a. Data Types\n",
    "- High Level Overview of Data Types\n",
    "\n",
    "### b. Missing Data\n",
    "- Bound\n",
    "- Line\n",
    "- Code Names\n",
    "\n",
    "### c. Feature Engineering\n",
    "- Station Engineering\n",
    "- Line Completion and Verification\n",
    "- Location (Station/Misc)\n",
    "- Code Bins\n",
    "\n",
    "# 2. Data Analysis\n",
    "\n",
    "### a. High Level Overview of Delays\n",
    "- Types of Delays\n",
    "- Occurence of Delays\n",
    "\n",
    "### b. Annualized Efficiency Trends\n",
    "- Efficiency Trends across seperate Delay Codes\n",
    "- Efficiency Trends across Lines\n"
   ]
  },
  {
   "cell_type": "markdown",
   "metadata": {},
   "source": [
    "# 1. Data Collection and Cleaning\n",
    "\n",
    "### a. What does our data look like?"
   ]
  },
  {
   "cell_type": "code",
   "execution_count": 3,
   "metadata": {},
   "outputs": [],
   "source": [
    "# Import datasets\n",
    "delay = pd.read_csv('data/all_years.csv', delimiter = '\\t')\n",
    "codes_srt = pd.read_csv('data/codes_srt.csv', delimiter = '\\t')\n",
    "codes_sub = pd.read_csv('data/codes_sub.csv', delimiter = '\\t')\n",
    "\n",
    "# Merge Datasets\n",
    "delay = pd.merge(left=delay, right=codes_srt, how='left', left_on=delay['Code'], \n",
    "        right_on=codes_srt['SRT RMENU CODE']).drop(columns='key_0',axis=1)\n",
    "\n",
    "delay = pd.merge(left=delay, right=codes_sub, how='left', \n",
    "                left_on=delay['Code'], right_on=codes_sub['SUB RMENU CODE']).drop(columns='key_0', axis=1)\n",
    "\n",
    "# Create combo code columns\n",
    "delay['combo code'] = delay['CODE DESCRIPTION_y'].fillna(delay['CODE DESCRIPTION_y'])\n",
    "delay = delay.rename(columns={'combo code_y': 'combo code'})\n",
    "\n",
    "# Drop data fields that are repetitive\n",
    "delay = delay.drop(columns=['SRT RMENU CODE','CODE DESCRIPTION_x','SUB RMENU CODE', \n",
    "                   'CODE DESCRIPTION_y'])"
   ]
  },
  {
   "cell_type": "code",
   "execution_count": 4,
   "metadata": {},
   "outputs": [
    {
     "data": {
      "text/html": [
       "<div>\n",
       "<style scoped>\n",
       "    .dataframe tbody tr th:only-of-type {\n",
       "        vertical-align: middle;\n",
       "    }\n",
       "\n",
       "    .dataframe tbody tr th {\n",
       "        vertical-align: top;\n",
       "    }\n",
       "\n",
       "    .dataframe thead th {\n",
       "        text-align: right;\n",
       "    }\n",
       "</style>\n",
       "<table border=\"1\" class=\"dataframe\">\n",
       "  <thead>\n",
       "    <tr style=\"text-align: right;\">\n",
       "      <th></th>\n",
       "      <th>Date</th>\n",
       "      <th>Time</th>\n",
       "      <th>Day</th>\n",
       "      <th>Station</th>\n",
       "      <th>Code</th>\n",
       "      <th>Min Delay</th>\n",
       "      <th>Min Gap</th>\n",
       "      <th>Bound</th>\n",
       "      <th>Line</th>\n",
       "      <th>Vehicle</th>\n",
       "      <th>combo code</th>\n",
       "    </tr>\n",
       "  </thead>\n",
       "  <tbody>\n",
       "    <tr>\n",
       "      <th>0</th>\n",
       "      <td>2014-01-01</td>\n",
       "      <td>00:21</td>\n",
       "      <td>Wednesday</td>\n",
       "      <td>VICTORIA PARK STATION</td>\n",
       "      <td>MUPR1</td>\n",
       "      <td>55</td>\n",
       "      <td>60</td>\n",
       "      <td>W</td>\n",
       "      <td>BD</td>\n",
       "      <td>5111</td>\n",
       "      <td>Priority One - Train in Contact With Person</td>\n",
       "    </tr>\n",
       "    <tr>\n",
       "      <th>1</th>\n",
       "      <td>2014-01-01</td>\n",
       "      <td>02:06</td>\n",
       "      <td>Wednesday</td>\n",
       "      <td>HIGH PARK STATION</td>\n",
       "      <td>SUDP</td>\n",
       "      <td>3</td>\n",
       "      <td>7</td>\n",
       "      <td>W</td>\n",
       "      <td>BD</td>\n",
       "      <td>5001</td>\n",
       "      <td>Disorderly Patron</td>\n",
       "    </tr>\n",
       "    <tr>\n",
       "      <th>2</th>\n",
       "      <td>2014-01-01</td>\n",
       "      <td>02:40</td>\n",
       "      <td>Wednesday</td>\n",
       "      <td>SHEPPARD STATION</td>\n",
       "      <td>MUNCA</td>\n",
       "      <td>0</td>\n",
       "      <td>0</td>\n",
       "      <td>NaN</td>\n",
       "      <td>YU</td>\n",
       "      <td>0</td>\n",
       "      <td>NaN</td>\n",
       "    </tr>\n",
       "    <tr>\n",
       "      <th>3</th>\n",
       "      <td>2014-01-01</td>\n",
       "      <td>03:10</td>\n",
       "      <td>Wednesday</td>\n",
       "      <td>LANSDOWNE STATION</td>\n",
       "      <td>SUDP</td>\n",
       "      <td>3</td>\n",
       "      <td>8</td>\n",
       "      <td>W</td>\n",
       "      <td>BD</td>\n",
       "      <td>5116</td>\n",
       "      <td>Disorderly Patron</td>\n",
       "    </tr>\n",
       "    <tr>\n",
       "      <th>4</th>\n",
       "      <td>2014-01-01</td>\n",
       "      <td>03:20</td>\n",
       "      <td>Wednesday</td>\n",
       "      <td>BLOOR STATION</td>\n",
       "      <td>MUSAN</td>\n",
       "      <td>5</td>\n",
       "      <td>10</td>\n",
       "      <td>S</td>\n",
       "      <td>YU</td>\n",
       "      <td>5386</td>\n",
       "      <td>Unsanitary Vehicle</td>\n",
       "    </tr>\n",
       "  </tbody>\n",
       "</table>\n",
       "</div>"
      ],
      "text/plain": [
       "         Date   Time        Day                Station   Code  Min Delay  \\\n",
       "0  2014-01-01  00:21  Wednesday  VICTORIA PARK STATION  MUPR1         55   \n",
       "1  2014-01-01  02:06  Wednesday      HIGH PARK STATION   SUDP          3   \n",
       "2  2014-01-01  02:40  Wednesday       SHEPPARD STATION  MUNCA          0   \n",
       "3  2014-01-01  03:10  Wednesday      LANSDOWNE STATION   SUDP          3   \n",
       "4  2014-01-01  03:20  Wednesday          BLOOR STATION  MUSAN          5   \n",
       "\n",
       "   Min Gap Bound Line  Vehicle                                   combo code  \n",
       "0       60     W   BD     5111  Priority One - Train in Contact With Person  \n",
       "1        7     W   BD     5001                            Disorderly Patron  \n",
       "2        0   NaN   YU        0                                          NaN  \n",
       "3        8     W   BD     5116                            Disorderly Patron  \n",
       "4       10     S   YU     5386                           Unsanitary Vehicle  "
      ]
     },
     "execution_count": 4,
     "metadata": {},
     "output_type": "execute_result"
    }
   ],
   "source": [
    "# What does our data look like?\n",
    "delay.head()"
   ]
  },
  {
   "cell_type": "code",
   "execution_count": 5,
   "metadata": {},
   "outputs": [
    {
     "name": "stdout",
     "output_type": "stream",
     "text": [
      "<class 'pandas.core.frame.DataFrame'>\n",
      "Int64Index: 97677 entries, 0 to 97676\n",
      "Data columns (total 11 columns):\n",
      "Date          97677 non-null object\n",
      "Time          97677 non-null object\n",
      "Day           97677 non-null object\n",
      "Station       97677 non-null object\n",
      "Code          97676 non-null object\n",
      "Min Delay     97677 non-null int64\n",
      "Min Gap       97677 non-null int64\n",
      "Bound         76575 non-null object\n",
      "Line          97277 non-null object\n",
      "Vehicle       97677 non-null int64\n",
      "combo code    91956 non-null object\n",
      "dtypes: int64(3), object(8)\n",
      "memory usage: 8.9+ MB\n"
     ]
    }
   ],
   "source": [
    "# What types of data are we working with?\n",
    "delay.info()"
   ]
  },
  {
   "cell_type": "code",
   "execution_count": 6,
   "metadata": {},
   "outputs": [],
   "source": [
    "# Convert date/time columns\n",
    "delay['Date'] = pd.to_datetime(delay['Date'])"
   ]
  },
  {
   "cell_type": "code",
   "execution_count": null,
   "metadata": {},
   "outputs": [],
   "source": []
  },
  {
   "cell_type": "code",
   "execution_count": null,
   "metadata": {},
   "outputs": [],
   "source": []
  },
  {
   "cell_type": "code",
   "execution_count": null,
   "metadata": {},
   "outputs": [],
   "source": []
  },
  {
   "cell_type": "code",
   "execution_count": null,
   "metadata": {},
   "outputs": [],
   "source": []
  },
  {
   "cell_type": "code",
   "execution_count": null,
   "metadata": {},
   "outputs": [],
   "source": []
  },
  {
   "cell_type": "code",
   "execution_count": null,
   "metadata": {},
   "outputs": [],
   "source": []
  },
  {
   "cell_type": "code",
   "execution_count": null,
   "metadata": {},
   "outputs": [],
   "source": []
  },
  {
   "cell_type": "code",
   "execution_count": null,
   "metadata": {},
   "outputs": [],
   "source": []
  }
 ],
 "metadata": {
  "kernelspec": {
   "display_name": "Python 3",
   "language": "python",
   "name": "python3"
  },
  "language_info": {
   "codemirror_mode": {
    "name": "ipython",
    "version": 3
   },
   "file_extension": ".py",
   "mimetype": "text/x-python",
   "name": "python",
   "nbconvert_exporter": "python",
   "pygments_lexer": "ipython3",
   "version": "3.6.5"
  }
 },
 "nbformat": 4,
 "nbformat_minor": 2
}
