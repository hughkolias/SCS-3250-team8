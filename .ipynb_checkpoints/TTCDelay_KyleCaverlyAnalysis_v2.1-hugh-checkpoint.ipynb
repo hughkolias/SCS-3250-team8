{
 "cells": [
  {
   "cell_type": "code",
   "execution_count": null,
   "metadata": {},
   "outputs": [],
   "source": [
    "# Import packages\n",
    "import pandas as pd\n",
    "import numpy as np\n",
    "import matplotlib.pyplot as plt\n",
    "import seaborn as sns\n",
    "%matplotlib inline"
   ]
  },
  {
   "cell_type": "code",
   "execution_count": null,
   "metadata": {},
   "outputs": [],
   "source": [
    "# Import datasets\n",
    "delay = pd.read_csv('data/all_years.csv', delimiter='\\t')\n",
    "codes_srt = pd.read_csv('data/codes_srt.csv', delimiter='\\t')\n",
    "codes_sub = pd.read_csv('data/codes_sub.csv', delimiter='\\t')\n",
    "station_names = pd.read_csv('data/station_names.csv')\n",
    "codes_bins = pd.read_csv('data/codes_bins.csv')\n",
    "\n",
    "# Merge Datasets\n",
    "delay = pd.merge(left=delay, right=codes_srt, how='left', left_on=delay['Code'], \n",
    "        right_on=codes_srt['SRT RMENU CODE']).drop(columns='key_0',axis=1)\n",
    "\n",
    "delay = pd.merge(left=delay, right=codes_sub, how='left', \n",
    "                left_on=delay['Code'], right_on=codes_sub['SUB RMENU CODE']).drop(columns='key_0', axis=1)\n",
    "\n",
    "delay = pd.merge(left=delay, right=station_names, how='left',\n",
    "                left_on=delay['Station'], right_on=station_names['data_station']).drop(columns=['Unnamed: 0','key_0','data_station'],axis=1)\n",
    "\n",
    "# Create Combo Code Column\n",
    "delay['combo code'] = delay['CODE DESCRIPTION_y'].fillna(delay['CODE DESCRIPTION_y'])\n",
    "\n",
    "delay = pd.merge(left=delay, right=codes_bins, how='left', left_on=delay['combo code'], \n",
    "                right_on=codes_bins['combo code']).drop(columns=['key_0','combo code_x'], axis=1)\n",
    "delay = delay.rename(columns={'combo code_y': 'combo code'})"
   ]
  },
  {
   "cell_type": "code",
   "execution_count": null,
   "metadata": {},
   "outputs": [],
   "source": [
    "pd.merge(left=delay, right=codes_srt, how='left', left_on=delay['Code'], \n",
    "        right_on=codes_srt['SRT RMENU CODE']).drop(columns='key_0',axis=1)\n",
    "\n"
   ]
  },
  {
   "cell_type": "code",
   "execution_count": null,
   "metadata": {},
   "outputs": [],
   "source": []
  },
  {
   "cell_type": "code",
   "execution_count": null,
   "metadata": {},
   "outputs": [],
   "source": []
  },
  {
   "cell_type": "code",
   "execution_count": null,
   "metadata": {},
   "outputs": [],
   "source": []
  },
  {
   "cell_type": "code",
   "execution_count": null,
   "metadata": {},
   "outputs": [],
   "source": [
    "# Filter Dataset\n",
    "delay = delay.drop(columns=['SRT RMENU CODE','CODE DESCRIPTION_x','SUB RMENU CODE', \n",
    "                   'CODE DESCRIPTION_y'])"
   ]
  },
  {
   "cell_type": "code",
   "execution_count": null,
   "metadata": {},
   "outputs": [],
   "source": [
    "# What does our data look like\n",
    "delay.head()"
   ]
  },
  {
   "cell_type": "markdown",
   "metadata": {},
   "source": [
    "## Missing Values"
   ]
  },
  {
   "cell_type": "code",
   "execution_count": null,
   "metadata": {},
   "outputs": [],
   "source": [
    "delay.isnull().mean().sort_values().plot(kind='barh')"
   ]
  },
  {
   "cell_type": "markdown",
   "metadata": {},
   "source": [
    "### Bound\n",
    "- Directional in one direction, nulls can be expected as some delays are when subways are not in transit\n",
    "- Complete Nulls with 'NA'\n",
    "\n",
    "### real_station\n",
    "- some \"Station\" in original datasets are not real subway stations, therefore we can fill Nulls with 'Misc'\n",
    "\n",
    "### combo code\n",
    "- some delays are not reported with a reason\n",
    "- we cant complete this data\n",
    "- fill in all Nulls with 'misc'"
   ]
  },
  {
   "cell_type": "code",
   "execution_count": null,
   "metadata": {},
   "outputs": [],
   "source": [
    "# Complete Missing Values if possible\n",
    "delay['Bound'] = delay['Bound'].fillna('NA')\n",
    "delay['real_station'] = delay['real_station'].fillna('Misc')\n",
    "delay['combo code'] = delay['combo code'].fillna('Misc')"
   ]
  },
  {
   "cell_type": "markdown",
   "metadata": {},
   "source": [
    "## Data Cleaning"
   ]
  },
  {
   "cell_type": "code",
   "execution_count": null,
   "metadata": {},
   "outputs": [],
   "source": [
    "# What are the Data Types are we working with?\n",
    "delay.info()"
   ]
  },
  {
   "cell_type": "code",
   "execution_count": null,
   "metadata": {},
   "outputs": [],
   "source": [
    "# Convert data to Datetime\n",
    "delay['Date'] = pd.to_datetime(delay['Date'])\n",
    "\n",
    "# Generate Month/Year Variables\n",
    "delay['Month'] = [i.month for i in delay['Date']]\n",
    "delay['Year'] = [i.year for i in delay['Date']]"
   ]
  },
  {
   "cell_type": "code",
   "execution_count": null,
   "metadata": {},
   "outputs": [],
   "source": [
    "# Get Hours columns for Min Delay/Gap\n",
    "delay['Min Delay Hours'] = delay['Min Delay']/60\n",
    "delay['Min Gap Hours'] = delay['Min Gap']/60"
   ]
  },
  {
   "cell_type": "code",
   "execution_count": null,
   "metadata": {},
   "outputs": [],
   "source": [
    "# Generate Time Category\n",
    "delay['Time'] = pd.to_datetime(delay['Time'])"
   ]
  },
  {
   "cell_type": "code",
   "execution_count": null,
   "metadata": {},
   "outputs": [],
   "source": [
    "def hour_of_day(time):\n",
    "    return time.hour\n",
    "\n",
    "def time_classifier(time):\n",
    "    hour = hour_of_day(time)\n",
    "    if (hour >= 5 and hour < 12):\n",
    "        return 'Morning'\n",
    "    elif (hour >= 12 and hour < 17):\n",
    "        return 'Afternoon'\n",
    "    elif (hour >= 17 and hour < 23):\n",
    "        return 'Evening'\n",
    "    elif (hour >= 23 or (hour >= 0 and hour < 5)):\n",
    "        return 'Hooligan Hour'\n",
    "\n",
    "# Generate Time Groupings\n",
    "delay['Hour'] = delay['Time'].apply(hour_of_day)\n",
    "delay['Time of Day'] = delay['Time'].apply(time_classifier)"
   ]
  },
  {
   "cell_type": "code",
   "execution_count": null,
   "metadata": {
    "scrolled": false
   },
   "outputs": [],
   "source": [
    "delay"
   ]
  },
  {
   "cell_type": "markdown",
   "metadata": {},
   "source": [
    "## Data Exploration"
   ]
  },
  {
   "cell_type": "markdown",
   "metadata": {},
   "source": [
    "### 1. What are the common types of Min/Delay or Gaps by Code Bins"
   ]
  },
  {
   "cell_type": "code",
   "execution_count": null,
   "metadata": {},
   "outputs": [],
   "source": [
    "# What are the most commonly occuring delays\n",
    "delay['code bin'].value_counts().sort_values().plot(kind='barh',figsize=(15,5),\n",
    "                                     colormap='viridis')"
   ]
  },
  {
   "cell_type": "code",
   "execution_count": null,
   "metadata": {},
   "outputs": [],
   "source": [
    "# What are the most common types of Delays\n",
    "delay[['code bin','Min Delay']].groupby( \n",
    "       'code bin').sum().sort_values('Min Delay', ascending=True).plot(\n",
    "       kind='barh',figsize=(15,5), colormap='viridis')"
   ]
  },
  {
   "cell_type": "code",
   "execution_count": null,
   "metadata": {},
   "outputs": [],
   "source": [
    "# What are the most common types of Delays by Min Gap between trains\n",
    "delay[['code bin','Min Gap']].groupby('code bin').sum().sort_values(\n",
    "    'Min Gap', ascending=True).plot(kind='barh',\n",
    "                                    figsize=(15,5), colormap='viridis')"
   ]
  },
  {
   "cell_type": "code",
   "execution_count": null,
   "metadata": {},
   "outputs": [],
   "source": []
  },
  {
   "cell_type": "markdown",
   "metadata": {},
   "source": [
    "### Time Analysis"
   ]
  },
  {
   "cell_type": "markdown",
   "metadata": {},
   "source": [
    "1. Frequency based on time"
   ]
  },
  {
   "cell_type": "code",
   "execution_count": null,
   "metadata": {},
   "outputs": [],
   "source": [
    "bar_chart = pd.plot.bar(x=delay['Hour'], y=delay['code bin'])"
   ]
  },
  {
   "cell_type": "code",
   "execution_count": null,
   "metadata": {},
   "outputs": [],
   "source": [
    "delay[['', '']].plt.bar(x=delay['Hour'], y=delay['code bin'])"
   ]
  },
  {
   "cell_type": "markdown",
   "metadata": {},
   "source": [
    "### 2. Delay Trends: Are certain types of Delays now more common?"
   ]
  },
  {
   "cell_type": "code",
   "execution_count": 23,
   "metadata": {},
   "outputs": [
    {
     "name": "stderr",
     "output_type": "stream",
     "text": [
      "/anaconda3/lib/python3.6/site-packages/pandas/core/indexing.py:1472: FutureWarning: \n",
      "Passing list-likes to .loc or [] with any missing label will raise\n",
      "KeyError in the future, you can use .reindex() as an alternative.\n",
      "\n",
      "See the documentation here:\n",
      "https://pandas.pydata.org/pandas-docs/stable/indexing.html#deprecate-loc-reindex-listlike\n",
      "  return self._getitem_tuple(key)\n"
     ]
    }
   ],
   "source": [
    "# Get trends Dataframe\n",
    "trends = delay[['Year','code bin','Min Delay']].groupby(['Year','code bin']).count()\n",
    "trends = trends.sort_values(['code bin','Year']).unstack().pct_change(4).dropna()\n",
    "trends.columns = trends.columns.droplevel()\n",
    "trends.columns = trends.columns.tolist()\n",
    "trends = pd.melt(trends, id_vars=['Year'],value_vars=trends.columns.tolist()).drop(columns='Year')"
   ]
  },
  {
   "cell_type": "code",
   "execution_count": 24,
   "metadata": {},
   "outputs": [
    {
     "data": {
      "text/plain": [
       "<matplotlib.axes._subplots.AxesSubplot at 0x1119d2860>"
      ]
     },
     "execution_count": 24,
     "metadata": {},
     "output_type": "execute_result"
    },
    {
     "data": {
      "image/png": "[encoded data removed]",
      "text/plain": [
       "<Figure size 1080x720 with 1 Axes>"
      ]
     },
     "metadata": {},
     "output_type": "display_data"
    }
   ],
   "source": [
    "# Plot Delay Trends\n",
    "trends = trends.rename(columns={'variable': 'code bin'})\n",
    "trends.index = trends['code bin']\n",
    "trends = trends.drop(columns='code bin',axis=1)\n",
    "trends.sort_values('value',ascending=True).plot(kind='barh',figsize=(15,10), colormap='viridis')"
   ]
  },
  {
   "cell_type": "markdown",
   "metadata": {},
   "source": [
    "### 3. Efficiency Trends: Is the time spent per delay getting smaller?"
   ]
  },
  {
   "cell_type": "code",
   "execution_count": 25,
   "metadata": {},
   "outputs": [
    {
     "name": "stderr",
     "output_type": "stream",
     "text": [
      "/anaconda3/lib/python3.6/site-packages/pandas/core/indexing.py:1472: FutureWarning: \n",
      "Passing list-likes to .loc or [] with any missing label will raise\n",
      "KeyError in the future, you can use .reindex() as an alternative.\n",
      "\n",
      "See the documentation here:\n",
      "https://pandas.pydata.org/pandas-docs/stable/indexing.html#deprecate-loc-reindex-listlike\n",
      "  return self._getitem_tuple(key)\n"
     ]
    }
   ],
   "source": [
    "# Get Efficieny Dataframe\n",
    "hours = delay[['Year','code bin','Min Delay Hours']].groupby(['Year','code bin']).sum()\n",
    "counts = delay[['Year','code bin','Min Delay Hours']].groupby(['Year','code bin']).count()\n",
    "efficiency = hours/counts\n",
    "\n",
    "# Get Growth Rates of Efficiency Metrics\n",
    "efficiency = efficiency.sort_values(['code bin','Year']).unstack().pct_change(4).dropna()\n",
    "efficiency.columns = efficiency.columns.droplevel()\n",
    "efficiency = pd.melt(efficiency, id_vars=['Year'],value_vars=efficiency.columns.tolist()).drop(columns='Year',axis=1)\n",
    "\n",
    "# Reset efficiency Index\n",
    "efficiency.index = efficiency['code bin']\n",
    "efficiency = efficiency.drop(columns='code bin',axis=1)"
   ]
  },
  {
   "cell_type": "code",
   "execution_count": 26,
   "metadata": {},
   "outputs": [
    {
     "data": {
      "text/plain": [
       "<matplotlib.axes._subplots.AxesSubplot at 0x1119b6128>"
      ]
     },
     "execution_count": 26,
     "metadata": {},
     "output_type": "execute_result"
    },
    {
     "data": {
      "image/png": "[encoded data removed]",
      "text/plain": [
       "<Figure size 1080x720 with 1 Axes>"
      ]
     },
     "metadata": {},
     "output_type": "display_data"
    }
   ],
   "source": [
    "# Plot efficiency metrics\n",
    "efficiency.sort_values('value').plot(kind='barh',figsize=(15,10),colormap='viridis')"
   ]
  },
  {
   "cell_type": "markdown",
   "metadata": {},
   "source": [
    "### 4. Delay Trends by Line: Are More Delays occuring on different lines?"
   ]
  },
  {
   "cell_type": "code",
   "execution_count": 27,
   "metadata": {},
   "outputs": [],
   "source": [
    "# Create Function to Identify Trends by Line\n",
    "\n",
    "colList = ['Year','real_line','Min Delay Hours']\n",
    "\n",
    "def getLineDetails(df, colList, agg, codeFilter=None):\n",
    "    \n",
    "    new_df = df.dropna(subset=['real_line'])\n",
    "    \n",
    "    new_df.head()\n",
    "    \n",
    "    if codeFilter == None:\n",
    "        new_df = new_df[colList]\n",
    "    else:\n",
    "        new_df = new_df[new_df['code bin']==codeFilter][colList]\n",
    "    \n",
    "    if agg == 'sum':\n",
    "        return new_df.groupby(colList[:-1]).sum().unstack()\n",
    "    elif agg == 'mean':\n",
    "        return new_df.groupby(colList[:-1]).mean().unstack()\n",
    "    elif agg == 'count':\n",
    "        return new_df.groupby(colList[:-1]).count().unstack()\n",
    "    elif agg == 'eff':\n",
    "        return new_df.groupby(colList[:-1]).mean().unstack().pct_change()"
   ]
  },
  {
   "cell_type": "code",
   "execution_count": 28,
   "metadata": {},
   "outputs": [
    {
     "data": {
      "text/plain": [
       "<matplotlib.axes._subplots.AxesSubplot at 0x11279fd30>"
      ]
     },
     "execution_count": 28,
     "metadata": {},
     "output_type": "execute_result"
    },
    {
     "data": {
      "image/png": "[encoded data removed]",
      "text/plain": [
       "<Figure size 432x288 with 2 Axes>"
      ]
     },
     "metadata": {},
     "output_type": "display_data"
    }
   ],
   "source": [
    "# Minimum Delay Hours\n",
    "colList = ['Year','real_line','Min Delay Hours']\n",
    "sns.heatmap(getLineDetails(delay, colList, 'eff', 'Mechanical'), cmap='Blues')"
   ]
  },
  {
   "cell_type": "code",
   "execution_count": 29,
   "metadata": {},
   "outputs": [
    {
     "data": {
      "text/plain": [
       "<matplotlib.axes._subplots.AxesSubplot at 0x1116c2470>"
      ]
     },
     "execution_count": 29,
     "metadata": {},
     "output_type": "execute_result"
    },
    {
     "data": {
      "image/png": "[encoded data removed]",
      "text/plain": [
       "<Figure size 432x288 with 2 Axes>"
      ]
     },
     "metadata": {},
     "output_type": "display_data"
    }
   ],
   "source": [
    "\n",
    "    \n",
    "sns.heatmap(getLineDetails(delay, colList, 'eff'), cmap='Blues')\n",
    "#sns.heatmap(getLineDetails(delay, colList, 'mean'))\n",
    "#sns.heatmap(getLineDetails(delay, colList, 'count'))"
   ]
  },
  {
   "cell_type": "code",
   "execution_count": null,
   "metadata": {},
   "outputs": [],
   "source": []
  },
  {
   "cell_type": "code",
   "execution_count": null,
   "metadata": {},
   "outputs": [],
   "source": []
  },
  {
   "cell_type": "code",
   "execution_count": null,
   "metadata": {},
   "outputs": [],
   "source": []
  },
  {
   "cell_type": "code",
   "execution_count": 30,
   "metadata": {},
   "outputs": [
    {
     "ename": "NameError",
     "evalue": "name 'lines' is not defined",
     "output_type": "error",
     "traceback": [
      "\u001b[0;31m---------------------------------------------------------------------------\u001b[0m",
      "\u001b[0;31mNameError\u001b[0m                                 Traceback (most recent call last)",
      "\u001b[0;32m<ipython-input-30-014299f178cd>\u001b[0m in \u001b[0;36m<module>\u001b[0;34m()\u001b[0m\n\u001b[0;32m----> 1\u001b[0;31m \u001b[0msns\u001b[0m\u001b[0;34m.\u001b[0m\u001b[0mheatmap\u001b[0m\u001b[0;34m(\u001b[0m\u001b[0mdata\u001b[0m\u001b[0;34m=\u001b[0m\u001b[0mlines\u001b[0m\u001b[0;34m)\u001b[0m\u001b[0;34m\u001b[0m\u001b[0m\n\u001b[0m",
      "\u001b[0;31mNameError\u001b[0m: name 'lines' is not defined"
     ]
    }
   ],
   "source": [
    "sns.heatmap(data=lines)"
   ]
  },
  {
   "cell_type": "code",
   "execution_count": 31,
   "metadata": {},
   "outputs": [],
   "source": [
    "# Is this change in delay across the YU/BD lines due to an increase in delay alarms, or a decrease in efficiency?\n",
    "lines_count = delay.dropna(subset=['real_line'])\n",
    "lines_count = lines_count[lines_count['code bin']=='Mechanical'][['Year','real_line','Min Delay Hours']]\n",
    "lines_count = lines_count.groupby(['Year','real_line']).count().unstack()"
   ]
  },
  {
   "cell_type": "code",
   "execution_count": 32,
   "metadata": {},
   "outputs": [
    {
     "ename": "NameError",
     "evalue": "name 'lines' is not defined",
     "output_type": "error",
     "traceback": [
      "\u001b[0;31m---------------------------------------------------------------------------\u001b[0m",
      "\u001b[0;31mNameError\u001b[0m                                 Traceback (most recent call last)",
      "\u001b[0;32m<ipython-input-32-686fcede4fc6>\u001b[0m in \u001b[0;36m<module>\u001b[0;34m()\u001b[0m\n\u001b[0;32m----> 1\u001b[0;31m \u001b[0mlinesEfficiency\u001b[0m \u001b[0;34m=\u001b[0m \u001b[0mlines\u001b[0m\u001b[0;34m/\u001b[0m\u001b[0mlines_count\u001b[0m\u001b[0;34m\u001b[0m\u001b[0m\n\u001b[0m\u001b[1;32m      2\u001b[0m \u001b[0msns\u001b[0m\u001b[0;34m.\u001b[0m\u001b[0mheatmap\u001b[0m\u001b[0;34m(\u001b[0m\u001b[0mdata\u001b[0m\u001b[0;34m=\u001b[0m\u001b[0mlinesEfficiency\u001b[0m\u001b[0;34m.\u001b[0m\u001b[0mpct_change\u001b[0m\u001b[0;34m(\u001b[0m\u001b[0;36m1\u001b[0m\u001b[0;34m)\u001b[0m\u001b[0;34m,\u001b[0m \u001b[0mcmap\u001b[0m\u001b[0;34m=\u001b[0m\u001b[0;34m'Blues'\u001b[0m\u001b[0;34m)\u001b[0m\u001b[0;34m\u001b[0m\u001b[0m\n\u001b[1;32m      3\u001b[0m \u001b[0;31m#sns.heatmap(data=linesEfficiency)\u001b[0m\u001b[0;34m\u001b[0m\u001b[0;34m\u001b[0m\u001b[0m\n",
      "\u001b[0;31mNameError\u001b[0m: name 'lines' is not defined"
     ]
    }
   ],
   "source": [
    "linesEfficiency = lines/lines_count\n",
    "sns.heatmap(data=linesEfficiency.pct_change(1), cmap='Blues')\n",
    "#sns.heatmap(data=linesEfficiency)"
   ]
  },
  {
   "cell_type": "code",
   "execution_count": 33,
   "metadata": {},
   "outputs": [],
   "source": [
    "# How does this compare to the Min Gap between trains\n",
    "lines_gap = delay.dropna(subset=['real_line'])\n",
    "lines_gap = lines_gap[lines_gap['code bin']=='Mechanical'][['Year','real_line','Min Gap Hours']]\n",
    "lines_gap_time = lines_gap.groupby(['Year','real_line']).sum().unstack()\n",
    "lines_gap_count = lines_gap.groupby(['Year','real_line']).count().unstack()"
   ]
  },
  {
   "cell_type": "code",
   "execution_count": 34,
   "metadata": {},
   "outputs": [
    {
     "data": {
      "text/html": [
       "<div>\n",
       "<style scoped>\n",
       "    .dataframe tbody tr th:only-of-type {\n",
       "        vertical-align: middle;\n",
       "    }\n",
       "\n",
       "    .dataframe tbody tr th {\n",
       "        vertical-align: top;\n",
       "    }\n",
       "\n",
       "    .dataframe thead tr th {\n",
       "        text-align: left;\n",
       "    }\n",
       "\n",
       "    .dataframe thead tr:last-of-type th {\n",
       "        text-align: right;\n",
       "    }\n",
       "</style>\n",
       "<table border=\"1\" class=\"dataframe\">\n",
       "  <thead>\n",
       "    <tr>\n",
       "      <th></th>\n",
       "      <th colspan=\"4\" halign=\"left\">Min Gap Hours</th>\n",
       "    </tr>\n",
       "    <tr>\n",
       "      <th>real_line</th>\n",
       "      <th>BD</th>\n",
       "      <th>SHP</th>\n",
       "      <th>SRT</th>\n",
       "      <th>YU</th>\n",
       "    </tr>\n",
       "    <tr>\n",
       "      <th>Year</th>\n",
       "      <th></th>\n",
       "      <th></th>\n",
       "      <th></th>\n",
       "      <th></th>\n",
       "    </tr>\n",
       "  </thead>\n",
       "  <tbody>\n",
       "    <tr>\n",
       "      <th>2014</th>\n",
       "      <td>NaN</td>\n",
       "      <td>NaN</td>\n",
       "      <td>NaN</td>\n",
       "      <td>NaN</td>\n",
       "    </tr>\n",
       "    <tr>\n",
       "      <th>2015</th>\n",
       "      <td>-0.571540</td>\n",
       "      <td>-0.054471</td>\n",
       "      <td>-0.614975</td>\n",
       "      <td>-0.384905</td>\n",
       "    </tr>\n",
       "    <tr>\n",
       "      <th>2016</th>\n",
       "      <td>-0.050272</td>\n",
       "      <td>0.974361</td>\n",
       "      <td>0.365567</td>\n",
       "      <td>0.083679</td>\n",
       "    </tr>\n",
       "    <tr>\n",
       "      <th>2017</th>\n",
       "      <td>0.294219</td>\n",
       "      <td>0.232156</td>\n",
       "      <td>-0.139693</td>\n",
       "      <td>0.226741</td>\n",
       "    </tr>\n",
       "    <tr>\n",
       "      <th>2018</th>\n",
       "      <td>0.353474</td>\n",
       "      <td>-0.367094</td>\n",
       "      <td>0.191286</td>\n",
       "      <td>0.684085</td>\n",
       "    </tr>\n",
       "  </tbody>\n",
       "</table>\n",
       "</div>"
      ],
      "text/plain": [
       "          Min Gap Hours                              \n",
       "real_line            BD       SHP       SRT        YU\n",
       "Year                                                 \n",
       "2014                NaN       NaN       NaN       NaN\n",
       "2015          -0.571540 -0.054471 -0.614975 -0.384905\n",
       "2016          -0.050272  0.974361  0.365567  0.083679\n",
       "2017           0.294219  0.232156 -0.139693  0.226741\n",
       "2018           0.353474 -0.367094  0.191286  0.684085"
      ]
     },
     "execution_count": 34,
     "metadata": {},
     "output_type": "execute_result"
    }
   ],
   "source": [
    "gap_efficiency = lines_gap_time/lines_gap_count\n",
    "gap_efficiency.pct_change()"
   ]
  },
  {
   "cell_type": "code",
   "execution_count": 35,
   "metadata": {},
   "outputs": [
    {
     "data": {
      "text/plain": [
       "<matplotlib.axes._subplots.AxesSubplot at 0x111e2d198>"
      ]
     },
     "execution_count": 35,
     "metadata": {},
     "output_type": "execute_result"
    },
    {
     "data": {
      "image/png": "[encoded data removed]",
      "text/plain": [
       "<Figure size 432x288 with 2 Axes>"
      ]
     },
     "metadata": {},
     "output_type": "display_data"
    }
   ],
   "source": [
    "sns.heatmap(data=gap_efficiency.pct_change(), cmap='Blues')"
   ]
  },
  {
   "cell_type": "code",
   "execution_count": 36,
   "metadata": {},
   "outputs": [
    {
     "data": {
      "text/html": [
       "<div>\n",
       "<style scoped>\n",
       "    .dataframe tbody tr th:only-of-type {\n",
       "        vertical-align: middle;\n",
       "    }\n",
       "\n",
       "    .dataframe tbody tr th {\n",
       "        vertical-align: top;\n",
       "    }\n",
       "\n",
       "    .dataframe thead tr th {\n",
       "        text-align: left;\n",
       "    }\n",
       "\n",
       "    .dataframe thead tr:last-of-type th {\n",
       "        text-align: right;\n",
       "    }\n",
       "</style>\n",
       "<table border=\"1\" class=\"dataframe\">\n",
       "  <thead>\n",
       "    <tr>\n",
       "      <th></th>\n",
       "      <th colspan=\"4\" halign=\"left\">Min Gap Hours</th>\n",
       "    </tr>\n",
       "    <tr>\n",
       "      <th>real_line</th>\n",
       "      <th>BD</th>\n",
       "      <th>SHP</th>\n",
       "      <th>SRT</th>\n",
       "      <th>YU</th>\n",
       "    </tr>\n",
       "    <tr>\n",
       "      <th>Year</th>\n",
       "      <th></th>\n",
       "      <th></th>\n",
       "      <th></th>\n",
       "      <th></th>\n",
       "    </tr>\n",
       "  </thead>\n",
       "  <tbody>\n",
       "    <tr>\n",
       "      <th>2014</th>\n",
       "      <td>NaN</td>\n",
       "      <td>NaN</td>\n",
       "      <td>NaN</td>\n",
       "      <td>NaN</td>\n",
       "    </tr>\n",
       "    <tr>\n",
       "      <th>2015</th>\n",
       "      <td>-0.571540</td>\n",
       "      <td>-0.054471</td>\n",
       "      <td>-0.614975</td>\n",
       "      <td>-0.384905</td>\n",
       "    </tr>\n",
       "    <tr>\n",
       "      <th>2016</th>\n",
       "      <td>-0.050272</td>\n",
       "      <td>0.974361</td>\n",
       "      <td>0.365567</td>\n",
       "      <td>0.083679</td>\n",
       "    </tr>\n",
       "    <tr>\n",
       "      <th>2017</th>\n",
       "      <td>0.294219</td>\n",
       "      <td>0.232156</td>\n",
       "      <td>-0.139693</td>\n",
       "      <td>0.226741</td>\n",
       "    </tr>\n",
       "    <tr>\n",
       "      <th>2018</th>\n",
       "      <td>0.353474</td>\n",
       "      <td>-0.367094</td>\n",
       "      <td>0.191286</td>\n",
       "      <td>0.684085</td>\n",
       "    </tr>\n",
       "  </tbody>\n",
       "</table>\n",
       "</div>"
      ],
      "text/plain": [
       "          Min Gap Hours                              \n",
       "real_line            BD       SHP       SRT        YU\n",
       "Year                                                 \n",
       "2014                NaN       NaN       NaN       NaN\n",
       "2015          -0.571540 -0.054471 -0.614975 -0.384905\n",
       "2016          -0.050272  0.974361  0.365567  0.083679\n",
       "2017           0.294219  0.232156 -0.139693  0.226741\n",
       "2018           0.353474 -0.367094  0.191286  0.684085"
      ]
     },
     "execution_count": 36,
     "metadata": {},
     "output_type": "execute_result"
    }
   ],
   "source": [
    "gap_efficiency.pct_change()"
   ]
  },
  {
   "cell_type": "code",
   "execution_count": 37,
   "metadata": {},
   "outputs": [
    {
     "data": {
      "text/html": [
       "<div>\n",
       "<style scoped>\n",
       "    .dataframe tbody tr th:only-of-type {\n",
       "        vertical-align: middle;\n",
       "    }\n",
       "\n",
       "    .dataframe tbody tr th {\n",
       "        vertical-align: top;\n",
       "    }\n",
       "\n",
       "    .dataframe thead th {\n",
       "        text-align: right;\n",
       "    }\n",
       "</style>\n",
       "<table border=\"1\" class=\"dataframe\">\n",
       "  <thead>\n",
       "    <tr style=\"text-align: right;\">\n",
       "      <th></th>\n",
       "      <th></th>\n",
       "      <th>Min Delay Hours</th>\n",
       "      <th>Min Gap Hours</th>\n",
       "    </tr>\n",
       "    <tr>\n",
       "      <th>real_line</th>\n",
       "      <th></th>\n",
       "      <th></th>\n",
       "      <th></th>\n",
       "    </tr>\n",
       "  </thead>\n",
       "  <tbody>\n",
       "    <tr>\n",
       "      <th rowspan=\"2\" valign=\"top\">BD</th>\n",
       "      <th>Min Delay Hours</th>\n",
       "      <td>1.000000</td>\n",
       "      <td>0.977567</td>\n",
       "    </tr>\n",
       "    <tr>\n",
       "      <th>Min Gap Hours</th>\n",
       "      <td>0.977567</td>\n",
       "      <td>1.000000</td>\n",
       "    </tr>\n",
       "    <tr>\n",
       "      <th rowspan=\"2\" valign=\"top\">SHP</th>\n",
       "      <th>Min Delay Hours</th>\n",
       "      <td>1.000000</td>\n",
       "      <td>0.877726</td>\n",
       "    </tr>\n",
       "    <tr>\n",
       "      <th>Min Gap Hours</th>\n",
       "      <td>0.877726</td>\n",
       "      <td>1.000000</td>\n",
       "    </tr>\n",
       "    <tr>\n",
       "      <th rowspan=\"2\" valign=\"top\">SRT</th>\n",
       "      <th>Min Delay Hours</th>\n",
       "      <td>1.000000</td>\n",
       "      <td>0.847305</td>\n",
       "    </tr>\n",
       "    <tr>\n",
       "      <th>Min Gap Hours</th>\n",
       "      <td>0.847305</td>\n",
       "      <td>1.000000</td>\n",
       "    </tr>\n",
       "    <tr>\n",
       "      <th rowspan=\"2\" valign=\"top\">YU</th>\n",
       "      <th>Min Delay Hours</th>\n",
       "      <td>1.000000</td>\n",
       "      <td>0.883721</td>\n",
       "    </tr>\n",
       "    <tr>\n",
       "      <th>Min Gap Hours</th>\n",
       "      <td>0.883721</td>\n",
       "      <td>1.000000</td>\n",
       "    </tr>\n",
       "  </tbody>\n",
       "</table>\n",
       "</div>"
      ],
      "text/plain": [
       "                           Min Delay Hours  Min Gap Hours\n",
       "real_line                                                \n",
       "BD        Min Delay Hours         1.000000       0.977567\n",
       "          Min Gap Hours           0.977567       1.000000\n",
       "SHP       Min Delay Hours         1.000000       0.877726\n",
       "          Min Gap Hours           0.877726       1.000000\n",
       "SRT       Min Delay Hours         1.000000       0.847305\n",
       "          Min Gap Hours           0.847305       1.000000\n",
       "YU        Min Delay Hours         1.000000       0.883721\n",
       "          Min Gap Hours           0.883721       1.000000"
      ]
     },
     "execution_count": 37,
     "metadata": {},
     "output_type": "execute_result"
    }
   ],
   "source": [
    "# How are Delays and Min Gap Correlated\n",
    "delay[['real_line','Min Delay Hours','Min Gap Hours']].groupby('real_line').corr()"
   ]
  },
  {
   "cell_type": "code",
   "execution_count": null,
   "metadata": {},
   "outputs": [],
   "source": []
  },
  {
   "cell_type": "code",
   "execution_count": null,
   "metadata": {},
   "outputs": [],
   "source": []
  },
  {
   "cell_type": "code",
   "execution_count": null,
   "metadata": {},
   "outputs": [],
   "source": []
  },
  {
   "cell_type": "code",
   "execution_count": null,
   "metadata": {},
   "outputs": [],
   "source": []
  },
  {
   "cell_type": "code",
   "execution_count": null,
   "metadata": {},
   "outputs": [],
   "source": []
  },
  {
   "cell_type": "code",
   "execution_count": null,
   "metadata": {},
   "outputs": [],
   "source": []
  },
  {
   "cell_type": "code",
   "execution_count": null,
   "metadata": {},
   "outputs": [],
   "source": []
  },
  {
   "cell_type": "code",
   "execution_count": null,
   "metadata": {},
   "outputs": [],
   "source": []
  },
  {
   "cell_type": "code",
   "execution_count": null,
   "metadata": {},
   "outputs": [],
   "source": []
  },
  {
   "cell_type": "code",
   "execution_count": null,
   "metadata": {},
   "outputs": [],
   "source": []
  }
 ],
 "metadata": {
  "kernelspec": {
   "display_name": "Python 3",
   "language": "python",
   "name": "python3"
  },
  "language_info": {
   "codemirror_mode": {
    "name": "ipython",
    "version": 3
   },
   "file_extension": ".py",
   "mimetype": "text/x-python",
   "name": "python",
   "nbconvert_exporter": "python",
   "pygments_lexer": "ipython3",
   "version": "3.6.5"
  }
 },
 "nbformat": 4,
 "nbformat_minor": 2
}
